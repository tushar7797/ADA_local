{
 "cells": [
  {
   "cell_type": "markdown",
   "metadata": {
    "collapsed": true,
    "pycharm": {
     "name": "#%% md\n"
    }
   },
   "source": [
    "# Homework 2 (HW2)\n",
    "\n",
    "---\n",
    "By the end of this homework we expect you to be able to:\n",
    "1. Preprocess data and make it amenable to statistical analysis and machine learning models;\n",
    "2. Train and test out-of-the-box machine learning models in Python;\n",
    "3. Carry out statistical hypothesis testing;\n",
    "4. Carry out simple multivariate regression analyses;\n",
    "5. Use techniques to control for covariates;\n",
    "\n",
    "---\n",
    "\n",
    "## Important Dates\n",
    "\n",
    "- Homework release: Fri 12 Nov 2021\n",
    "- **Homework due**: Fri 26 Nov 2021, 23:59\n",
    "- Grade release: Fri 03 Dec 2021\n",
    "\n",
    "---\n",
    "\n",
    "##  Some rules\n",
    "\n",
    "1. You are allowed to use any built-in Python library that comes with Anaconda. If you want to use an external library, \n",
    "you may do so, but must justify your choice.\n",
    "2. Make sure you use the `data` folder provided in the repository in read-only mode. (Or alternatively, be sure you \n",
    "don’t change any of the files.)\n",
    "3. Be sure to provide a textual description of your thought process, the assumptions you made, the solution you \n",
    "implemented, and explanations for your answers. A notebook that only has code cells will not suffice.\n",
    "4. For questions containing the **/Discuss:/** prefix, answer not with code, but with a textual explanation\n",
    " (**in markdown**).\n",
    "5. Back up any hypotheses and claims with data, since this is an important aspect of the course.\n",
    "6. Please write all your comments in English, and use meaningful variable names in your code. Your repo should have a \n",
    "single notebook (plus the required data files) in the *master/main* branch. If there are multiple notebooks present, \n",
    "we will **not grade** anything.\n",
    "7. We will **not run your notebook for you**! Rather, we will grade it as is, which means that only the results \n",
    "contained in your evaluated code cells will be considered, and we will not see the results in unevaluated code cells. \n",
    "Thus, be sure to hand in a **fully-run and evaluated notebook**. In order to check whether everything looks as intended, you can check the rendered notebook on the GitHub website once you have pushed your solution there.\n",
    "8. In continuation to the previous point, interactive plots, such as those generated using `plotly`, should be **strictly avoided**!\n",
    "9. Make sure to print results or dataframes that confirm you have properly addressed the task.\n",
    "\n",
    "---\n",
    "\n",
    "## Context\n",
    "\n",
    "Congratulations! You have just been hired as a data scientist at *Piccardi Music,* a promising new music label created by a mysterious Italian disc jockey \"*Signor Piccardi*\". The company hired you to carry out a variety of data-related tasks, which will be explained in further detail below.\n",
    "\n",
    "---\n",
    "\n",
    "## The data\n",
    "\n",
    "For this homework you will use a dataset of 18,403 music reviews scraped from Pitchfork¹, including relevant metadata such as review author, review date, record release year, review score, and genre, along with the respective album's audio features pulled from Spotify's API. The data consists of the following columns:\n",
    "\n",
    "| Column   | Description  |\n",
    "|----------|:-------------|\n",
    "| `artist`           | The name of the artist who created the album being reviewed. |\n",
    "| `album`            | The name of the album being reviewed. |\n",
    "| `recordlabel`      | The name of the record label(s) who published the album. |\n",
    "| `releaseyear`      | The year that the album was released. |\n",
    "| `score`            | The score given to the album by the reviewer on a scale of 0.0 to 10.0. |\n",
    "| `reviewauthor`     | The name of the author who reviewed the album. |\n",
    "| `genre`            | The genre assigned to the album by Pitchfork. |\n",
    "| `reviewdate`       | The date that the review was published.  |\n",
    "| `key` | The estimated overall musical key of the track. Integers map to pitches using standard Pitch Class notation (e.g., 0 = C, 2 = D, and so on) |\n",
    "| `acousticness` | A confidence measure from 0.0 to 1.0 of whether an album is acoustic. 1.0 represents high confidencethat the album is acoustic. |\n",
    "| `danceability` | How suitable an album is for dancing based on a combination of musical elements including tempo, rhythm stability, beat strength, and overall regularity. A value of 1.0 is most danceable.\n",
    "| `energy` | A perceptual measure of intensity and activity, from 0.0 to 1.0, where 1.0 represents high energy. Metal is often high energy. |\n",
    "| `instrumentalness` | Predicts whether an album contains no vocals, from 0.0 to 1.0. The closer to 1.0, the more likely the album contains no vocals. |\n",
    "| `liveness` | Detects the presence of an audience, from 0.0 to 1.0. Scores greater than 0.8 indicate a strong likelihood the album is live. |\n",
    "| `loudness` | The overall loudness of the album in decibels (dB). |\n",
    "| `speechiness` | Measures the presence of spoken words in an album on a scale from 0.0 to 1.0. Scores higher than 0.66 indicate an album made entirely of spoken words, while scores below 0.33 indicate music and other non-speech-like elements. |\n",
    "| `valence` | A measure from 0.0 to 1.0 describing the musical positiveness conveyed by an album, where values closer to 1.0 indicate more positive sounds. |\n",
    "| `tempo` | The overall estimated tempo of an album in beats per minute (BPM). |\n",
    "\n",
    "¹Pinter, Anthony T., et al. \"P4KxSpotify: A Dataset of Pitchfork Music Reviews and Spotify Musical Features.\" Proceedings of the International AAAI Conference on Web and Social Media. Vol. 14. 2020."
   ]
  },
  {
   "cell_type": "code",
   "execution_count": 1,
   "metadata": {},
   "outputs": [],
   "source": [
    "# CHANGE THIS IF YOU NEED/WANT TOO\n",
    "\n",
    "# pandas / numpy\n",
    "import pandas as pd\n",
    "import numpy as np\n",
    "\n",
    "# plotting\n",
    "import matplotlib.pyplot as plt\n",
    "import seaborn as sns\n",
    "import sklearn\n",
    "from sklearn.model_selection import train_test_split\n",
    "# datetime operations\n",
    "from datetime import datetime\n",
    "\n",
    "# ttest and euclidean distance\n",
    "from scipy.stats import ttest_ind\n",
    "from scipy.spatial.distance import seuclidean\n",
    "import scipy.stats as st\n",
    "\n",
    "# linear fit using statsmodels\n",
    "import statsmodels.api as sm\n",
    "import statsmodels.formula.api as smf\n",
    "\n",
    "# good ole sklearn\n",
    "from sklearn.metrics import euclidean_distances, r2_score\n",
    "from sklearn.linear_model import LinearRegression\n",
    "from sklearn.ensemble import GradientBoostingRegressor\n",
    "\n",
    "# displaying markdown strings\n",
    "from IPython.display import display, Markdown, Latex\n",
    "import warnings\n",
    "warnings.filterwarnings(\"ignore\")"
   ]
  },
  {
   "cell_type": "markdown",
   "metadata": {
    "pycharm": {
     "name": "#%% md\n"
    }
   },
   "source": [
    "## Part 1: Will this album be a hit?\n",
    "\n",
    "The first project you embark on in your new job is to build a regressor to predict whether an album will be well received or not. According to *Signor Piccardi* (your boss), this algorithm may eventually be helpful in forecasting the success of albums produced by *Piccardi Music*."
   ]
  },
  {
   "cell_type": "markdown",
   "metadata": {},
   "source": [
    "**Task 1 (Initial analyses — 10 pts)**\n",
    "\n",
    "As a good data scientist, the first thing you do is to have a good look at the data that was handed to you.\n",
    "\n",
    "1. Load the data using `pandas`. Identify and remove duplicate reviews, i.e., two reviews with albums by the same band with the same name (keep the first occurrence). Print the number of rows in your dataframe.\n",
    "\n",
    "2. Plot the distribution of album release years and the average score of albums per year.\n",
    "\n",
    "3. For numerical columns, calculate the mean, median, minimum value and maximum value. Additionally, plot the distribution for all the numerical columns in a single image (possibly with multiple subplots). Your image should be at most 14 inches wide by 14 inches long.\n",
    "\n",
    "3. For categorical columns, list how many different values there are in each column. If there are less than 10 distinct values for a category, print them all. For the `genre` column, assign the value `'Other'` for albums where the value is either `'none'` or `NaN`.\n",
    "\n",
    "5. **Discuss:** This dataset was built with *found data*—i.e., the Pitchfork reviews were not made with the goal of training a machine learning model. Grounded on the previous analyses and in Pitchfork's [Wikipedia page](https://en.wikipedia.org/wiki/Pitchfork_(website)), point **three** (exactly!) ways in which this data may not be representative of music albums in general due to the way the data was collected. \n",
    "\n",
    "---"
   ]
  },
  {
   "cell_type": "markdown",
   "metadata": {},
   "source": [
    "#### Question 1"
   ]
  },
  {
   "cell_type": "code",
   "execution_count": 3,
   "metadata": {},
   "outputs": [
    {
     "name": "stdout",
     "output_type": "stream",
     "text": [
      "16738\n"
     ]
    }
   ],
   "source": [
    "df = pd.read_csv(\"pitchfork.csv.gz\")\n",
    "df = df.drop_duplicates(subset=['artist', 'album'], keep='first')# remove duplicate reviews for the combine of artist and album\n",
    "df = df.reset_index()\n",
    "df= df.drop('index', 1)\n",
    "print(df.shape[0])"
   ]
  },
  {
   "cell_type": "code",
   "execution_count": 4,
   "metadata": {},
   "outputs": [
    {
     "data": {
      "text/html": [
       "<div>\n",
       "<style scoped>\n",
       "    .dataframe tbody tr th:only-of-type {\n",
       "        vertical-align: middle;\n",
       "    }\n",
       "\n",
       "    .dataframe tbody tr th {\n",
       "        vertical-align: top;\n",
       "    }\n",
       "\n",
       "    .dataframe thead th {\n",
       "        text-align: right;\n",
       "    }\n",
       "</style>\n",
       "<table border=\"1\" class=\"dataframe\">\n",
       "  <thead>\n",
       "    <tr style=\"text-align: right;\">\n",
       "      <th></th>\n",
       "      <th>artist</th>\n",
       "      <th>album</th>\n",
       "      <th>reviewauthor</th>\n",
       "      <th>score</th>\n",
       "      <th>releaseyear</th>\n",
       "      <th>reviewdate</th>\n",
       "      <th>recordlabel</th>\n",
       "      <th>genre</th>\n",
       "      <th>danceability</th>\n",
       "      <th>energy</th>\n",
       "      <th>key</th>\n",
       "      <th>loudness</th>\n",
       "      <th>speechiness</th>\n",
       "      <th>acousticness</th>\n",
       "      <th>instrumentalness</th>\n",
       "      <th>liveness</th>\n",
       "      <th>valence</th>\n",
       "      <th>tempo</th>\n",
       "    </tr>\n",
       "  </thead>\n",
       "  <tbody>\n",
       "    <tr>\n",
       "      <th>0</th>\n",
       "      <td>Studio 1</td>\n",
       "      <td>Studio 1</td>\n",
       "      <td>Andy Battaglia</td>\n",
       "      <td>8.5</td>\n",
       "      <td>2009.0</td>\n",
       "      <td>February 18 2009</td>\n",
       "      <td>Studio</td>\n",
       "      <td>Electronic</td>\n",
       "      <td>0.511917</td>\n",
       "      <td>0.499667</td>\n",
       "      <td>5.250000</td>\n",
       "      <td>-5.626583</td>\n",
       "      <td>0.031983</td>\n",
       "      <td>0.724917</td>\n",
       "      <td>0.024493</td>\n",
       "      <td>0.165367</td>\n",
       "      <td>0.555083</td>\n",
       "      <td>101.395167</td>\n",
       "    </tr>\n",
       "    <tr>\n",
       "      <th>1</th>\n",
       "      <td>John Fahey</td>\n",
       "      <td>The Great Santa Barbara Oil Slick</td>\n",
       "      <td>Mark Richardson</td>\n",
       "      <td>8.2</td>\n",
       "      <td>2005.0</td>\n",
       "      <td>February 13 2005</td>\n",
       "      <td>Water</td>\n",
       "      <td>Folk/Country</td>\n",
       "      <td>0.369765</td>\n",
       "      <td>0.325412</td>\n",
       "      <td>4.470588</td>\n",
       "      <td>-19.153824</td>\n",
       "      <td>0.148624</td>\n",
       "      <td>0.647053</td>\n",
       "      <td>0.559133</td>\n",
       "      <td>0.527782</td>\n",
       "      <td>0.179465</td>\n",
       "      <td>107.622647</td>\n",
       "    </tr>\n",
       "    <tr>\n",
       "      <th>2</th>\n",
       "      <td>Reigning Sound</td>\n",
       "      <td>Too Much Guitar</td>\n",
       "      <td>Stephen M. Deusner</td>\n",
       "      <td>8.3</td>\n",
       "      <td>2004.0</td>\n",
       "      <td>August 19 2004</td>\n",
       "      <td>In the Red</td>\n",
       "      <td>Electronic</td>\n",
       "      <td>0.253943</td>\n",
       "      <td>0.912857</td>\n",
       "      <td>4.428571</td>\n",
       "      <td>-1.089500</td>\n",
       "      <td>0.055500</td>\n",
       "      <td>0.000253</td>\n",
       "      <td>0.751214</td>\n",
       "      <td>0.199071</td>\n",
       "      <td>0.552786</td>\n",
       "      <td>133.895500</td>\n",
       "    </tr>\n",
       "    <tr>\n",
       "      <th>3</th>\n",
       "      <td>The Red Thread</td>\n",
       "      <td>After the Last</td>\n",
       "      <td>Chris Dahlen</td>\n",
       "      <td>7.3</td>\n",
       "      <td>2003.0</td>\n",
       "      <td>July 17 2003</td>\n",
       "      <td>Badman</td>\n",
       "      <td>Rock</td>\n",
       "      <td>0.425400</td>\n",
       "      <td>0.433474</td>\n",
       "      <td>5.700000</td>\n",
       "      <td>-12.871000</td>\n",
       "      <td>0.028260</td>\n",
       "      <td>0.310325</td>\n",
       "      <td>0.224137</td>\n",
       "      <td>0.125150</td>\n",
       "      <td>0.451400</td>\n",
       "      <td>104.354200</td>\n",
       "    </tr>\n",
       "    <tr>\n",
       "      <th>4</th>\n",
       "      <td>Mac Miller</td>\n",
       "      <td>Swimming</td>\n",
       "      <td>Evan Rytlewski</td>\n",
       "      <td>7.5</td>\n",
       "      <td>2018.0</td>\n",
       "      <td>August 3 2018</td>\n",
       "      <td>Warner Bros.</td>\n",
       "      <td>Rap</td>\n",
       "      <td>0.624846</td>\n",
       "      <td>0.438154</td>\n",
       "      <td>4.153846</td>\n",
       "      <td>-9.456077</td>\n",
       "      <td>0.170246</td>\n",
       "      <td>0.652462</td>\n",
       "      <td>0.012819</td>\n",
       "      <td>0.121131</td>\n",
       "      <td>0.281138</td>\n",
       "      <td>122.121308</td>\n",
       "    </tr>\n",
       "    <tr>\n",
       "      <th>...</th>\n",
       "      <td>...</td>\n",
       "      <td>...</td>\n",
       "      <td>...</td>\n",
       "      <td>...</td>\n",
       "      <td>...</td>\n",
       "      <td>...</td>\n",
       "      <td>...</td>\n",
       "      <td>...</td>\n",
       "      <td>...</td>\n",
       "      <td>...</td>\n",
       "      <td>...</td>\n",
       "      <td>...</td>\n",
       "      <td>...</td>\n",
       "      <td>...</td>\n",
       "      <td>...</td>\n",
       "      <td>...</td>\n",
       "      <td>...</td>\n",
       "      <td>...</td>\n",
       "    </tr>\n",
       "    <tr>\n",
       "      <th>16733</th>\n",
       "      <td>Flying Lotus</td>\n",
       "      <td>Flamagra</td>\n",
       "      <td>Philip Sherburne</td>\n",
       "      <td>7.8</td>\n",
       "      <td>2019.0</td>\n",
       "      <td>May 24 2019</td>\n",
       "      <td>none</td>\n",
       "      <td>Electronic</td>\n",
       "      <td>0.536750</td>\n",
       "      <td>0.652050</td>\n",
       "      <td>5.350000</td>\n",
       "      <td>-8.583750</td>\n",
       "      <td>0.134820</td>\n",
       "      <td>0.215916</td>\n",
       "      <td>0.519892</td>\n",
       "      <td>0.192075</td>\n",
       "      <td>0.353705</td>\n",
       "      <td>124.988200</td>\n",
       "    </tr>\n",
       "    <tr>\n",
       "      <th>16734</th>\n",
       "      <td>YG</td>\n",
       "      <td>4REAL 4REAL</td>\n",
       "      <td>Sheldon Pearce</td>\n",
       "      <td>7.2</td>\n",
       "      <td>2019.0</td>\n",
       "      <td>May 24 2019</td>\n",
       "      <td>none</td>\n",
       "      <td>Rap</td>\n",
       "      <td>0.815429</td>\n",
       "      <td>0.556929</td>\n",
       "      <td>4.785714</td>\n",
       "      <td>-6.327643</td>\n",
       "      <td>0.259721</td>\n",
       "      <td>0.186476</td>\n",
       "      <td>0.000848</td>\n",
       "      <td>0.244586</td>\n",
       "      <td>0.361850</td>\n",
       "      <td>115.455857</td>\n",
       "    </tr>\n",
       "    <tr>\n",
       "      <th>16735</th>\n",
       "      <td>Mavis Staples</td>\n",
       "      <td>We Get By</td>\n",
       "      <td>Stephen M. Deusner</td>\n",
       "      <td>7.5</td>\n",
       "      <td>2019.0</td>\n",
       "      <td>May 24 2019</td>\n",
       "      <td>none</td>\n",
       "      <td>Pop/R&amp;B</td>\n",
       "      <td>0.633636</td>\n",
       "      <td>0.374664</td>\n",
       "      <td>5.454545</td>\n",
       "      <td>-10.363000</td>\n",
       "      <td>0.071664</td>\n",
       "      <td>0.710727</td>\n",
       "      <td>0.001982</td>\n",
       "      <td>0.118609</td>\n",
       "      <td>0.619364</td>\n",
       "      <td>114.246818</td>\n",
       "    </tr>\n",
       "    <tr>\n",
       "      <th>16736</th>\n",
       "      <td>Amyl and the Sniffers</td>\n",
       "      <td>Amyl and the Sniffers</td>\n",
       "      <td>Stephen Thomas Erlewine</td>\n",
       "      <td>7.2</td>\n",
       "      <td>2019.0</td>\n",
       "      <td>May 24 2019</td>\n",
       "      <td>none</td>\n",
       "      <td>Rock</td>\n",
       "      <td>0.440909</td>\n",
       "      <td>0.876636</td>\n",
       "      <td>5.454545</td>\n",
       "      <td>-3.353182</td>\n",
       "      <td>0.064000</td>\n",
       "      <td>0.000838</td>\n",
       "      <td>0.135113</td>\n",
       "      <td>0.172718</td>\n",
       "      <td>0.591545</td>\n",
       "      <td>119.177454</td>\n",
       "    </tr>\n",
       "    <tr>\n",
       "      <th>16737</th>\n",
       "      <td>D√¢m-Funk</td>\n",
       "      <td>STFU II EP</td>\n",
       "      <td>Jonah Bromwich</td>\n",
       "      <td>7.1</td>\n",
       "      <td>2019.0</td>\n",
       "      <td>May 23 2019</td>\n",
       "      <td>none</td>\n",
       "      <td>Pop/R&amp;B</td>\n",
       "      <td>0.502000</td>\n",
       "      <td>0.930000</td>\n",
       "      <td>2.000000</td>\n",
       "      <td>-1.880000</td>\n",
       "      <td>0.047200</td>\n",
       "      <td>0.000061</td>\n",
       "      <td>0.001060</td>\n",
       "      <td>0.063500</td>\n",
       "      <td>0.492000</td>\n",
       "      <td>97.980000</td>\n",
       "    </tr>\n",
       "  </tbody>\n",
       "</table>\n",
       "<p>16738 rows × 18 columns</p>\n",
       "</div>"
      ],
      "text/plain": [
       "                      artist                              album  \\\n",
       "0                   Studio 1                           Studio 1   \n",
       "1                 John Fahey  The Great Santa Barbara Oil Slick   \n",
       "2             Reigning Sound                    Too Much Guitar   \n",
       "3             The Red Thread                     After the Last   \n",
       "4                 Mac Miller                           Swimming   \n",
       "...                      ...                                ...   \n",
       "16733           Flying Lotus                           Flamagra   \n",
       "16734                     YG                        4REAL 4REAL   \n",
       "16735          Mavis Staples                          We Get By   \n",
       "16736  Amyl and the Sniffers              Amyl and the Sniffers   \n",
       "16737              D√¢m-Funk                         STFU II EP   \n",
       "\n",
       "                  reviewauthor  score  releaseyear        reviewdate  \\\n",
       "0               Andy Battaglia    8.5       2009.0  February 18 2009   \n",
       "1              Mark Richardson    8.2       2005.0  February 13 2005   \n",
       "2           Stephen M. Deusner    8.3       2004.0    August 19 2004   \n",
       "3                 Chris Dahlen    7.3       2003.0      July 17 2003   \n",
       "4               Evan Rytlewski    7.5       2018.0     August 3 2018   \n",
       "...                        ...    ...          ...               ...   \n",
       "16733         Philip Sherburne    7.8       2019.0       May 24 2019   \n",
       "16734           Sheldon Pearce    7.2       2019.0       May 24 2019   \n",
       "16735       Stephen M. Deusner    7.5       2019.0       May 24 2019   \n",
       "16736  Stephen Thomas Erlewine    7.2       2019.0       May 24 2019   \n",
       "16737           Jonah Bromwich    7.1       2019.0       May 23 2019   \n",
       "\n",
       "        recordlabel         genre  danceability    energy       key  \\\n",
       "0            Studio    Electronic      0.511917  0.499667  5.250000   \n",
       "1             Water  Folk/Country      0.369765  0.325412  4.470588   \n",
       "2        In the Red    Electronic      0.253943  0.912857  4.428571   \n",
       "3            Badman          Rock      0.425400  0.433474  5.700000   \n",
       "4      Warner Bros.           Rap      0.624846  0.438154  4.153846   \n",
       "...             ...           ...           ...       ...       ...   \n",
       "16733          none    Electronic      0.536750  0.652050  5.350000   \n",
       "16734          none           Rap      0.815429  0.556929  4.785714   \n",
       "16735          none       Pop/R&B      0.633636  0.374664  5.454545   \n",
       "16736          none          Rock      0.440909  0.876636  5.454545   \n",
       "16737          none       Pop/R&B      0.502000  0.930000  2.000000   \n",
       "\n",
       "        loudness  speechiness  acousticness  instrumentalness  liveness  \\\n",
       "0      -5.626583     0.031983      0.724917          0.024493  0.165367   \n",
       "1     -19.153824     0.148624      0.647053          0.559133  0.527782   \n",
       "2      -1.089500     0.055500      0.000253          0.751214  0.199071   \n",
       "3     -12.871000     0.028260      0.310325          0.224137  0.125150   \n",
       "4      -9.456077     0.170246      0.652462          0.012819  0.121131   \n",
       "...          ...          ...           ...               ...       ...   \n",
       "16733  -8.583750     0.134820      0.215916          0.519892  0.192075   \n",
       "16734  -6.327643     0.259721      0.186476          0.000848  0.244586   \n",
       "16735 -10.363000     0.071664      0.710727          0.001982  0.118609   \n",
       "16736  -3.353182     0.064000      0.000838          0.135113  0.172718   \n",
       "16737  -1.880000     0.047200      0.000061          0.001060  0.063500   \n",
       "\n",
       "        valence       tempo  \n",
       "0      0.555083  101.395167  \n",
       "1      0.179465  107.622647  \n",
       "2      0.552786  133.895500  \n",
       "3      0.451400  104.354200  \n",
       "4      0.281138  122.121308  \n",
       "...         ...         ...  \n",
       "16733  0.353705  124.988200  \n",
       "16734  0.361850  115.455857  \n",
       "16735  0.619364  114.246818  \n",
       "16736  0.591545  119.177454  \n",
       "16737  0.492000   97.980000  \n",
       "\n",
       "[16738 rows x 18 columns]"
      ]
     },
     "execution_count": 4,
     "metadata": {},
     "output_type": "execute_result"
    }
   ],
   "source": [
    "df"
   ]
  },
  {
   "cell_type": "markdown",
   "metadata": {},
   "source": [
    "#### Question 2"
   ]
  },
  {
   "cell_type": "code",
   "execution_count": 8,
   "metadata": {},
   "outputs": [
    {
     "data": {
      "image/png": "[encoded data removed]",
      "text/plain": [
       "<Figure size 720x360 with 1 Axes>"
      ]
     },
     "metadata": {},
     "output_type": "display_data"
    }
   ],
   "source": [
    "with sns.axes_style('white'):\n",
    "    g = sns.factorplot(\"releaseyear\", data=df, aspect=2,\n",
    "                       kind=\"count\", color='steelblue')\n",
    "    g.set_xticklabels(step=5)"
   ]
  },
  {
   "cell_type": "code",
   "execution_count": 9,
   "metadata": {},
   "outputs": [
    {
     "data": {
      "text/plain": [
       "Text(0, 0.5, 'average score by year')"
      ]
     },
     "execution_count": 9,
     "metadata": {},
     "output_type": "execute_result"
    },
    {
     "data": {
      "image/png": "[encoded data removed]",
      "text/plain": [
       "<Figure size 432x288 with 1 Axes>"
      ]
     },
     "metadata": {
      "needs_background": "light"
     },
     "output_type": "display_data"
    }
   ],
   "source": [
    "average_score_by_year = df[['releaseyear', 'score']].groupby('releaseyear').mean()\n",
    "plt.plot(average_score_by_year.index, average_score_by_year['score'])\n",
    "plt.title(\"the relationship between years and average score\")\n",
    "plt.xlabel(\"album release years\")\n",
    "plt.ylabel(\"average score by year\")"
   ]
  },
  {
   "cell_type": "markdown",
   "metadata": {},
   "source": [
    "#### Question 3"
   ]
  },
  {
   "cell_type": "code",
   "execution_count": 10,
   "metadata": {},
   "outputs": [
    {
     "data": {
      "text/plain": [
       "float64    12\n",
       "object      6\n",
       "dtype: int64"
      ]
     },
     "execution_count": 10,
     "metadata": {},
     "output_type": "execute_result"
    }
   ],
   "source": [
    "df.dtypes.value_counts() # check the value type for all the columns, we find the only nunmerical type is float64"
   ]
  },
  {
   "cell_type": "code",
   "execution_count": 11,
   "metadata": {},
   "outputs": [
    {
     "data": {
      "text/html": [
       "<div>\n",
       "<style scoped>\n",
       "    .dataframe tbody tr th:only-of-type {\n",
       "        vertical-align: middle;\n",
       "    }\n",
       "\n",
       "    .dataframe tbody tr th {\n",
       "        vertical-align: top;\n",
       "    }\n",
       "\n",
       "    .dataframe thead th {\n",
       "        text-align: right;\n",
       "    }\n",
       "</style>\n",
       "<table border=\"1\" class=\"dataframe\">\n",
       "  <thead>\n",
       "    <tr style=\"text-align: right;\">\n",
       "      <th></th>\n",
       "      <th>mean</th>\n",
       "      <th>median</th>\n",
       "      <th>min</th>\n",
       "      <th>max</th>\n",
       "    </tr>\n",
       "  </thead>\n",
       "  <tbody>\n",
       "    <tr>\n",
       "      <th>score</th>\n",
       "      <td>7.048596</td>\n",
       "      <td>7.300000</td>\n",
       "      <td>0.00000</td>\n",
       "      <td>10.000</td>\n",
       "    </tr>\n",
       "    <tr>\n",
       "      <th>releaseyear</th>\n",
       "      <td>2009.346338</td>\n",
       "      <td>2010.000000</td>\n",
       "      <td>1957.00000</td>\n",
       "      <td>2019.000</td>\n",
       "    </tr>\n",
       "    <tr>\n",
       "      <th>danceability</th>\n",
       "      <td>0.512334</td>\n",
       "      <td>0.511348</td>\n",
       "      <td>-1.00000</td>\n",
       "      <td>0.974</td>\n",
       "    </tr>\n",
       "    <tr>\n",
       "      <th>energy</th>\n",
       "      <td>0.601276</td>\n",
       "      <td>0.624722</td>\n",
       "      <td>-1.00000</td>\n",
       "      <td>0.999</td>\n",
       "    </tr>\n",
       "    <tr>\n",
       "      <th>key</th>\n",
       "      <td>5.216501</td>\n",
       "      <td>5.230769</td>\n",
       "      <td>-1.00000</td>\n",
       "      <td>11.000</td>\n",
       "    </tr>\n",
       "    <tr>\n",
       "      <th>loudness</th>\n",
       "      <td>-9.283268</td>\n",
       "      <td>-8.444263</td>\n",
       "      <td>-51.72875</td>\n",
       "      <td>4.078</td>\n",
       "    </tr>\n",
       "    <tr>\n",
       "      <th>speechiness</th>\n",
       "      <td>0.090742</td>\n",
       "      <td>0.056665</td>\n",
       "      <td>-1.00000</td>\n",
       "      <td>0.958</td>\n",
       "    </tr>\n",
       "    <tr>\n",
       "      <th>acousticness</th>\n",
       "      <td>0.301914</td>\n",
       "      <td>0.228844</td>\n",
       "      <td>-1.00000</td>\n",
       "      <td>0.996</td>\n",
       "    </tr>\n",
       "    <tr>\n",
       "      <th>instrumentalness</th>\n",
       "      <td>0.274748</td>\n",
       "      <td>0.149363</td>\n",
       "      <td>-1.00000</td>\n",
       "      <td>0.982</td>\n",
       "    </tr>\n",
       "    <tr>\n",
       "      <th>liveness</th>\n",
       "      <td>0.196402</td>\n",
       "      <td>0.174261</td>\n",
       "      <td>-1.00000</td>\n",
       "      <td>0.978</td>\n",
       "    </tr>\n",
       "    <tr>\n",
       "      <th>valence</th>\n",
       "      <td>0.405268</td>\n",
       "      <td>0.406288</td>\n",
       "      <td>-1.00000</td>\n",
       "      <td>0.971</td>\n",
       "    </tr>\n",
       "    <tr>\n",
       "      <th>tempo</th>\n",
       "      <td>120.326487</td>\n",
       "      <td>120.397346</td>\n",
       "      <td>-1.00000</td>\n",
       "      <td>215.972</td>\n",
       "    </tr>\n",
       "  </tbody>\n",
       "</table>\n",
       "</div>"
      ],
      "text/plain": [
       "                         mean       median         min       max\n",
       "score                7.048596     7.300000     0.00000    10.000\n",
       "releaseyear       2009.346338  2010.000000  1957.00000  2019.000\n",
       "danceability         0.512334     0.511348    -1.00000     0.974\n",
       "energy               0.601276     0.624722    -1.00000     0.999\n",
       "key                  5.216501     5.230769    -1.00000    11.000\n",
       "loudness            -9.283268    -8.444263   -51.72875     4.078\n",
       "speechiness          0.090742     0.056665    -1.00000     0.958\n",
       "acousticness         0.301914     0.228844    -1.00000     0.996\n",
       "instrumentalness     0.274748     0.149363    -1.00000     0.982\n",
       "liveness             0.196402     0.174261    -1.00000     0.978\n",
       "valence              0.405268     0.406288    -1.00000     0.971\n",
       "tempo              120.326487   120.397346    -1.00000   215.972"
      ]
     },
     "execution_count": 11,
     "metadata": {},
     "output_type": "execute_result"
    }
   ],
   "source": [
    "float_data = df.select_dtypes(include=['float64']) \n",
    "x = float_data.columns\n",
    "y = np.zeros((len(x),4))# 4 columns in y each stores mean, median, minimum value and maximum value \n",
    "for index, i in enumerate(x):\n",
    "    y[index,0] = float_data[i].mean()\n",
    "    y[index,1] = float_data[i].median()\n",
    "    y[index,2] = float_data[i].min()\n",
    "    y[index,3] = float_data[i].max()\n",
    "df_caculate = pd.DataFrame(data=y, index=x, columns=['mean', 'median', 'min', 'max'])\n",
    "df_caculate"
   ]
  },
  {
   "cell_type": "code",
   "execution_count": 16,
   "metadata": {},
   "outputs": [
    {
     "data": {
      "image/png": "[encoded data removed]",
      "text/plain": [
       "<Figure size 1008x1008 with 12 Axes>"
      ]
     },
     "metadata": {
      "needs_background": "light"
     },
     "output_type": "display_data"
    }
   ],
   "source": [
    "plt.figure(figsize=(14, 14))\n",
    "for index, i in enumerate(x):\n",
    "    data = float_data[i]\n",
    "    plt.subplot(4,4,index+1)\n",
    "    plt.hist(data,bins=25)\n",
    "    plt.title(i)    "
   ]
  },
  {
   "cell_type": "markdown",
   "metadata": {},
   "source": [
    "#### Question 4"
   ]
  },
  {
   "cell_type": "code",
   "execution_count": 17,
   "metadata": {},
   "outputs": [
    {
     "name": "stdout",
     "output_type": "stream",
     "text": [
      "the number of distinct values in artist is 7892\n",
      "the number of distinct values in album is 16183\n",
      "the number of distinct values in reviewauthor is 554\n",
      "the number of distinct values in reviewdate is 4876\n",
      "the number of distinct values in recordlabel is 3032\n",
      "the number of distinct values in genre is 10\n",
      "the distinct values in genre is ['Electronic' 'Folk/Country' 'Rock' 'Rap' 'Global' 'Experimental' 'Metal'\n",
      " 'Pop/R&B' 'Jazz' 'none'] \n"
     ]
    }
   ],
   "source": [
    "object_data = df.select_dtypes(include=['object']) #  select categorical columns, list how many different values there are in each column\n",
    "x = object_data.columns\n",
    "for i in x:\n",
    "    print(\"the number of distinct values in {0} is {1}\".format(i,len(object_data[i].unique())))\n",
    "    if len(object_data[i].unique()) <= 10:\n",
    "        print(\"the distinct values in {0} is {1} \".format(i,object_data[i].unique()))  "
   ]
  },
  {
   "cell_type": "code",
   "execution_count": 18,
   "metadata": {},
   "outputs": [
    {
     "data": {
      "text/plain": [
       "array(['Electronic', 'Folk/Country', 'Rock', 'Rap', 'Global',\n",
       "       'Experimental', 'Metal', 'Pop/R&B', 'Jazz', 'other'], dtype=object)"
      ]
     },
     "execution_count": 18,
     "metadata": {},
     "output_type": "execute_result"
    }
   ],
   "source": [
    "df['genre'].loc[df['genre'] == 'none'] = 'other'\n",
    "df['genre'].unique()"
   ]
  },
  {
   "cell_type": "markdown",
   "metadata": {},
   "source": [
    "#### Question 5"
   ]
  },
  {
   "cell_type": "code",
   "execution_count": 19,
   "metadata": {},
   "outputs": [],
   "source": [
    "# The following are 3 sentence extract from the wiki\n",
    "# discuss"
   ]
  },
  {
   "cell_type": "markdown",
   "metadata": {},
   "source": [
    "1 - In the 2000s the website's journalism favored independent music, favoring lo-fi and often obscure indie rock and giving only cursory treatment to other genres"
   ]
  },
  {
   "cell_type": "markdown",
   "metadata": {},
   "source": [
    "2 - Pitchfork's reviews can have a significant influence on an album's popularity, especially if it had only been available to a limited audience or had been released on an independent record label."
   ]
  },
  {
   "cell_type": "markdown",
   "metadata": {},
   "source": [
    "3 - an endorsement from Pitchfork—which dispenses its approval one-tenth of a point at a time, up to a maximum of 10 points—is very valuable, indeed."
   ]
  },
  {
   "cell_type": "markdown",
   "metadata": {
    "pycharm": {
     "name": "#%% md\n"
    }
   },
   "source": [
    "#### **Task 2 (Pre-processing and pipeline code — 12 pts)**\n",
    "\n",
    "Next, you decide to prepare the code that will help you in training your machine learning models. Also, you implement a simple baseline. For this task, **unless otherwise stated** you must implement functions yourself, instead of relying on `scikit-learn` (you can use `numpy` or `pandas`, though!).\n",
    "\n",
    "1. For each possible value in the `genre` column, create a new column called `{genre}_onehot` (e.g., for `genre=jazz`, create `jazz_onehot`). Collectively, these new columns should \"one hot-encode\" the genre column—for instance, if for a given album the `genre` is filled with the value `jazz`, the `jazz_onehot` column should equal 1 and all other `{genre}_onehot` columns should equal 0. \n",
    "\n",
    "2. Create a function `numpy_helper(df, cols)` to obtain a `numpy.array` out of your `dataframe`. The function should receive a dataframe `df` with N rows and a list of M columns `cols`, and should return a `np.array` of dimension (NxM).\n",
    "\n",
    "3. For each album, build an array of features `X` containing all genre-related one-hot features, and an array of outcomes `y` containing scores. Using the function [`sklearn.model_selection.train_test_split`](https://scikit-learn.org/stable/modules/generated/sklearn.model_selection.train_test_split.html) with `random_state=123`, split the data into a train set containing 70% of all data, and a test set containing the remaining 30%.\n",
    "\n",
    "4. Create your own baseline regressor. Using the training data (in the training stage), your regressor should estimate the average score for all albums. Then, for the test data (in the prediction stage), your classifier should always output the average score (computed on the training data).\n",
    "\n",
    "5. Calculate the [coefficient of determination ($R^2$)](https://scikit-learn.org/stable/modules/generated/sklearn.metrics.r2_score.html) of your baseline on the test data. **You are allowed to use the `sklearn` implementation here.**\n",
    "\n",
    "6. **Discuss:** Your train-test split randomly selected 70% of all data for the training set. Why is this a problem for the broader task of predicting whether a future album will be successful or not?\n",
    "\n",
    "---"
   ]
  },
  {
   "cell_type": "markdown",
   "metadata": {},
   "source": [
    "#### Quesiton 1"
   ]
  },
  {
   "cell_type": "code",
   "execution_count": 49,
   "metadata": {},
   "outputs": [],
   "source": [
    "df_onehot = pd.get_dummies(df, columns=['genre'],prefix=\"onehot\") # I do no know how to creat {genre}_onehot but onehot_genre\n",
    "\n",
    "# rename onehot_{genre} => {genre}_onehot\n",
    "rename_list = []\n",
    "for i, e in enumerate(df_onehot.columns[-10:]):\n",
    "    rename = e[7:] + \"_onehot\"\n",
    "    rename_list.append(rename)\n",
    "df_onehot = df_onehot.rename(columns=dict(zip(df_onehot.columns[-10:].values, rename_list)))"
   ]
  },
  {
   "cell_type": "code",
   "execution_count": null,
   "metadata": {},
   "outputs": [],
   "source": []
  },
  {
   "cell_type": "code",
   "execution_count": 50,
   "metadata": {},
   "outputs": [
    {
     "data": {
      "text/html": [
       "<div>\n",
       "<style scoped>\n",
       "    .dataframe tbody tr th:only-of-type {\n",
       "        vertical-align: middle;\n",
       "    }\n",
       "\n",
       "    .dataframe tbody tr th {\n",
       "        vertical-align: top;\n",
       "    }\n",
       "\n",
       "    .dataframe thead th {\n",
       "        text-align: right;\n",
       "    }\n",
       "</style>\n",
       "<table border=\"1\" class=\"dataframe\">\n",
       "  <thead>\n",
       "    <tr style=\"text-align: right;\">\n",
       "      <th></th>\n",
       "      <th>artist</th>\n",
       "      <th>album</th>\n",
       "      <th>reviewauthor</th>\n",
       "      <th>score</th>\n",
       "      <th>releaseyear</th>\n",
       "      <th>reviewdate</th>\n",
       "      <th>recordlabel</th>\n",
       "      <th>danceability</th>\n",
       "      <th>energy</th>\n",
       "      <th>key</th>\n",
       "      <th>...</th>\n",
       "      <th>Electronic_onehot</th>\n",
       "      <th>Experimental_onehot</th>\n",
       "      <th>Folk/Country_onehot</th>\n",
       "      <th>Global_onehot</th>\n",
       "      <th>Jazz_onehot</th>\n",
       "      <th>Metal_onehot</th>\n",
       "      <th>Pop/R&amp;B_onehot</th>\n",
       "      <th>Rap_onehot</th>\n",
       "      <th>Rock_onehot</th>\n",
       "      <th>other_onehot</th>\n",
       "    </tr>\n",
       "  </thead>\n",
       "  <tbody>\n",
       "    <tr>\n",
       "      <th>0</th>\n",
       "      <td>Studio 1</td>\n",
       "      <td>Studio 1</td>\n",
       "      <td>Andy Battaglia</td>\n",
       "      <td>8.5</td>\n",
       "      <td>2009.0</td>\n",
       "      <td>February 18 2009</td>\n",
       "      <td>Studio</td>\n",
       "      <td>0.511917</td>\n",
       "      <td>0.499667</td>\n",
       "      <td>5.250000</td>\n",
       "      <td>...</td>\n",
       "      <td>1</td>\n",
       "      <td>0</td>\n",
       "      <td>0</td>\n",
       "      <td>0</td>\n",
       "      <td>0</td>\n",
       "      <td>0</td>\n",
       "      <td>0</td>\n",
       "      <td>0</td>\n",
       "      <td>0</td>\n",
       "      <td>0</td>\n",
       "    </tr>\n",
       "    <tr>\n",
       "      <th>1</th>\n",
       "      <td>John Fahey</td>\n",
       "      <td>The Great Santa Barbara Oil Slick</td>\n",
       "      <td>Mark Richardson</td>\n",
       "      <td>8.2</td>\n",
       "      <td>2005.0</td>\n",
       "      <td>February 13 2005</td>\n",
       "      <td>Water</td>\n",
       "      <td>0.369765</td>\n",
       "      <td>0.325412</td>\n",
       "      <td>4.470588</td>\n",
       "      <td>...</td>\n",
       "      <td>0</td>\n",
       "      <td>0</td>\n",
       "      <td>1</td>\n",
       "      <td>0</td>\n",
       "      <td>0</td>\n",
       "      <td>0</td>\n",
       "      <td>0</td>\n",
       "      <td>0</td>\n",
       "      <td>0</td>\n",
       "      <td>0</td>\n",
       "    </tr>\n",
       "    <tr>\n",
       "      <th>2</th>\n",
       "      <td>Reigning Sound</td>\n",
       "      <td>Too Much Guitar</td>\n",
       "      <td>Stephen M. Deusner</td>\n",
       "      <td>8.3</td>\n",
       "      <td>2004.0</td>\n",
       "      <td>August 19 2004</td>\n",
       "      <td>In the Red</td>\n",
       "      <td>0.253943</td>\n",
       "      <td>0.912857</td>\n",
       "      <td>4.428571</td>\n",
       "      <td>...</td>\n",
       "      <td>1</td>\n",
       "      <td>0</td>\n",
       "      <td>0</td>\n",
       "      <td>0</td>\n",
       "      <td>0</td>\n",
       "      <td>0</td>\n",
       "      <td>0</td>\n",
       "      <td>0</td>\n",
       "      <td>0</td>\n",
       "      <td>0</td>\n",
       "    </tr>\n",
       "    <tr>\n",
       "      <th>3</th>\n",
       "      <td>The Red Thread</td>\n",
       "      <td>After the Last</td>\n",
       "      <td>Chris Dahlen</td>\n",
       "      <td>7.3</td>\n",
       "      <td>2003.0</td>\n",
       "      <td>July 17 2003</td>\n",
       "      <td>Badman</td>\n",
       "      <td>0.425400</td>\n",
       "      <td>0.433474</td>\n",
       "      <td>5.700000</td>\n",
       "      <td>...</td>\n",
       "      <td>0</td>\n",
       "      <td>0</td>\n",
       "      <td>0</td>\n",
       "      <td>0</td>\n",
       "      <td>0</td>\n",
       "      <td>0</td>\n",
       "      <td>0</td>\n",
       "      <td>0</td>\n",
       "      <td>1</td>\n",
       "      <td>0</td>\n",
       "    </tr>\n",
       "    <tr>\n",
       "      <th>4</th>\n",
       "      <td>Mac Miller</td>\n",
       "      <td>Swimming</td>\n",
       "      <td>Evan Rytlewski</td>\n",
       "      <td>7.5</td>\n",
       "      <td>2018.0</td>\n",
       "      <td>August 3 2018</td>\n",
       "      <td>Warner Bros.</td>\n",
       "      <td>0.624846</td>\n",
       "      <td>0.438154</td>\n",
       "      <td>4.153846</td>\n",
       "      <td>...</td>\n",
       "      <td>0</td>\n",
       "      <td>0</td>\n",
       "      <td>0</td>\n",
       "      <td>0</td>\n",
       "      <td>0</td>\n",
       "      <td>0</td>\n",
       "      <td>0</td>\n",
       "      <td>1</td>\n",
       "      <td>0</td>\n",
       "      <td>0</td>\n",
       "    </tr>\n",
       "    <tr>\n",
       "      <th>...</th>\n",
       "      <td>...</td>\n",
       "      <td>...</td>\n",
       "      <td>...</td>\n",
       "      <td>...</td>\n",
       "      <td>...</td>\n",
       "      <td>...</td>\n",
       "      <td>...</td>\n",
       "      <td>...</td>\n",
       "      <td>...</td>\n",
       "      <td>...</td>\n",
       "      <td>...</td>\n",
       "      <td>...</td>\n",
       "      <td>...</td>\n",
       "      <td>...</td>\n",
       "      <td>...</td>\n",
       "      <td>...</td>\n",
       "      <td>...</td>\n",
       "      <td>...</td>\n",
       "      <td>...</td>\n",
       "      <td>...</td>\n",
       "      <td>...</td>\n",
       "    </tr>\n",
       "    <tr>\n",
       "      <th>16733</th>\n",
       "      <td>Flying Lotus</td>\n",
       "      <td>Flamagra</td>\n",
       "      <td>Philip Sherburne</td>\n",
       "      <td>7.8</td>\n",
       "      <td>2019.0</td>\n",
       "      <td>May 24 2019</td>\n",
       "      <td>none</td>\n",
       "      <td>0.536750</td>\n",
       "      <td>0.652050</td>\n",
       "      <td>5.350000</td>\n",
       "      <td>...</td>\n",
       "      <td>1</td>\n",
       "      <td>0</td>\n",
       "      <td>0</td>\n",
       "      <td>0</td>\n",
       "      <td>0</td>\n",
       "      <td>0</td>\n",
       "      <td>0</td>\n",
       "      <td>0</td>\n",
       "      <td>0</td>\n",
       "      <td>0</td>\n",
       "    </tr>\n",
       "    <tr>\n",
       "      <th>16734</th>\n",
       "      <td>YG</td>\n",
       "      <td>4REAL 4REAL</td>\n",
       "      <td>Sheldon Pearce</td>\n",
       "      <td>7.2</td>\n",
       "      <td>2019.0</td>\n",
       "      <td>May 24 2019</td>\n",
       "      <td>none</td>\n",
       "      <td>0.815429</td>\n",
       "      <td>0.556929</td>\n",
       "      <td>4.785714</td>\n",
       "      <td>...</td>\n",
       "      <td>0</td>\n",
       "      <td>0</td>\n",
       "      <td>0</td>\n",
       "      <td>0</td>\n",
       "      <td>0</td>\n",
       "      <td>0</td>\n",
       "      <td>0</td>\n",
       "      <td>1</td>\n",
       "      <td>0</td>\n",
       "      <td>0</td>\n",
       "    </tr>\n",
       "    <tr>\n",
       "      <th>16735</th>\n",
       "      <td>Mavis Staples</td>\n",
       "      <td>We Get By</td>\n",
       "      <td>Stephen M. Deusner</td>\n",
       "      <td>7.5</td>\n",
       "      <td>2019.0</td>\n",
       "      <td>May 24 2019</td>\n",
       "      <td>none</td>\n",
       "      <td>0.633636</td>\n",
       "      <td>0.374664</td>\n",
       "      <td>5.454545</td>\n",
       "      <td>...</td>\n",
       "      <td>0</td>\n",
       "      <td>0</td>\n",
       "      <td>0</td>\n",
       "      <td>0</td>\n",
       "      <td>0</td>\n",
       "      <td>0</td>\n",
       "      <td>1</td>\n",
       "      <td>0</td>\n",
       "      <td>0</td>\n",
       "      <td>0</td>\n",
       "    </tr>\n",
       "    <tr>\n",
       "      <th>16736</th>\n",
       "      <td>Amyl and the Sniffers</td>\n",
       "      <td>Amyl and the Sniffers</td>\n",
       "      <td>Stephen Thomas Erlewine</td>\n",
       "      <td>7.2</td>\n",
       "      <td>2019.0</td>\n",
       "      <td>May 24 2019</td>\n",
       "      <td>none</td>\n",
       "      <td>0.440909</td>\n",
       "      <td>0.876636</td>\n",
       "      <td>5.454545</td>\n",
       "      <td>...</td>\n",
       "      <td>0</td>\n",
       "      <td>0</td>\n",
       "      <td>0</td>\n",
       "      <td>0</td>\n",
       "      <td>0</td>\n",
       "      <td>0</td>\n",
       "      <td>0</td>\n",
       "      <td>0</td>\n",
       "      <td>1</td>\n",
       "      <td>0</td>\n",
       "    </tr>\n",
       "    <tr>\n",
       "      <th>16737</th>\n",
       "      <td>D√¢m-Funk</td>\n",
       "      <td>STFU II EP</td>\n",
       "      <td>Jonah Bromwich</td>\n",
       "      <td>7.1</td>\n",
       "      <td>2019.0</td>\n",
       "      <td>May 23 2019</td>\n",
       "      <td>none</td>\n",
       "      <td>0.502000</td>\n",
       "      <td>0.930000</td>\n",
       "      <td>2.000000</td>\n",
       "      <td>...</td>\n",
       "      <td>0</td>\n",
       "      <td>0</td>\n",
       "      <td>0</td>\n",
       "      <td>0</td>\n",
       "      <td>0</td>\n",
       "      <td>0</td>\n",
       "      <td>1</td>\n",
       "      <td>0</td>\n",
       "      <td>0</td>\n",
       "      <td>0</td>\n",
       "    </tr>\n",
       "  </tbody>\n",
       "</table>\n",
       "<p>16738 rows × 27 columns</p>\n",
       "</div>"
      ],
      "text/plain": [
       "                      artist                              album  \\\n",
       "0                   Studio 1                           Studio 1   \n",
       "1                 John Fahey  The Great Santa Barbara Oil Slick   \n",
       "2             Reigning Sound                    Too Much Guitar   \n",
       "3             The Red Thread                     After the Last   \n",
       "4                 Mac Miller                           Swimming   \n",
       "...                      ...                                ...   \n",
       "16733           Flying Lotus                           Flamagra   \n",
       "16734                     YG                        4REAL 4REAL   \n",
       "16735          Mavis Staples                          We Get By   \n",
       "16736  Amyl and the Sniffers              Amyl and the Sniffers   \n",
       "16737              D√¢m-Funk                         STFU II EP   \n",
       "\n",
       "                  reviewauthor  score  releaseyear        reviewdate  \\\n",
       "0               Andy Battaglia    8.5       2009.0  February 18 2009   \n",
       "1              Mark Richardson    8.2       2005.0  February 13 2005   \n",
       "2           Stephen M. Deusner    8.3       2004.0    August 19 2004   \n",
       "3                 Chris Dahlen    7.3       2003.0      July 17 2003   \n",
       "4               Evan Rytlewski    7.5       2018.0     August 3 2018   \n",
       "...                        ...    ...          ...               ...   \n",
       "16733         Philip Sherburne    7.8       2019.0       May 24 2019   \n",
       "16734           Sheldon Pearce    7.2       2019.0       May 24 2019   \n",
       "16735       Stephen M. Deusner    7.5       2019.0       May 24 2019   \n",
       "16736  Stephen Thomas Erlewine    7.2       2019.0       May 24 2019   \n",
       "16737           Jonah Bromwich    7.1       2019.0       May 23 2019   \n",
       "\n",
       "        recordlabel  danceability    energy       key  ...  Electronic_onehot  \\\n",
       "0            Studio      0.511917  0.499667  5.250000  ...                  1   \n",
       "1             Water      0.369765  0.325412  4.470588  ...                  0   \n",
       "2        In the Red      0.253943  0.912857  4.428571  ...                  1   \n",
       "3            Badman      0.425400  0.433474  5.700000  ...                  0   \n",
       "4      Warner Bros.      0.624846  0.438154  4.153846  ...                  0   \n",
       "...             ...           ...       ...       ...  ...                ...   \n",
       "16733          none      0.536750  0.652050  5.350000  ...                  1   \n",
       "16734          none      0.815429  0.556929  4.785714  ...                  0   \n",
       "16735          none      0.633636  0.374664  5.454545  ...                  0   \n",
       "16736          none      0.440909  0.876636  5.454545  ...                  0   \n",
       "16737          none      0.502000  0.930000  2.000000  ...                  0   \n",
       "\n",
       "       Experimental_onehot  Folk/Country_onehot  Global_onehot  Jazz_onehot  \\\n",
       "0                        0                    0              0            0   \n",
       "1                        0                    1              0            0   \n",
       "2                        0                    0              0            0   \n",
       "3                        0                    0              0            0   \n",
       "4                        0                    0              0            0   \n",
       "...                    ...                  ...            ...          ...   \n",
       "16733                    0                    0              0            0   \n",
       "16734                    0                    0              0            0   \n",
       "16735                    0                    0              0            0   \n",
       "16736                    0                    0              0            0   \n",
       "16737                    0                    0              0            0   \n",
       "\n",
       "       Metal_onehot  Pop/R&B_onehot  Rap_onehot  Rock_onehot  other_onehot  \n",
       "0                 0               0           0            0             0  \n",
       "1                 0               0           0            0             0  \n",
       "2                 0               0           0            0             0  \n",
       "3                 0               0           0            1             0  \n",
       "4                 0               0           1            0             0  \n",
       "...             ...             ...         ...          ...           ...  \n",
       "16733             0               0           0            0             0  \n",
       "16734             0               0           1            0             0  \n",
       "16735             0               1           0            0             0  \n",
       "16736             0               0           0            1             0  \n",
       "16737             0               1           0            0             0  \n",
       "\n",
       "[16738 rows x 27 columns]"
      ]
     },
     "execution_count": 50,
     "metadata": {},
     "output_type": "execute_result"
    }
   ],
   "source": [
    "df_onehot # one_hot"
   ]
  },
  {
   "cell_type": "markdown",
   "metadata": {},
   "source": [
    "#### Question 2"
   ]
  },
  {
   "cell_type": "code",
   "execution_count": 51,
   "metadata": {},
   "outputs": [
    {
     "data": {
      "text/plain": [
       "array([['Studio 1', 'Studio 1'],\n",
       "       ['The Great Santa Barbara Oil Slick', 'John Fahey'],\n",
       "       ['Too Much Guitar', 'Reigning Sound'],\n",
       "       ...,\n",
       "       ['We Get By', 'Mavis Staples'],\n",
       "       ['Amyl and the Sniffers', 'Amyl and the Sniffers'],\n",
       "       ['STFU II EP', 'D√¢m-Funk']], dtype=object)"
      ]
     },
     "execution_count": 51,
     "metadata": {},
     "output_type": "execute_result"
    }
   ],
   "source": [
    "def numpy_helper(df, cols):\n",
    "    df = df[cols]\n",
    "    return df.to_numpy()\n",
    "\n",
    "# test if it works\n",
    "numpy_helper(df_onehot, ['album', 'artist'])"
   ]
  },
  {
   "cell_type": "markdown",
   "metadata": {},
   "source": [
    "#### Question 3"
   ]
  },
  {
   "cell_type": "code",
   "execution_count": 52,
   "metadata": {},
   "outputs": [],
   "source": [
    "X = numpy_helper(df_onehot, df_onehot.columns[-10:])\n",
    "y = numpy_helper(df_onehot, 'score')"
   ]
  },
  {
   "cell_type": "code",
   "execution_count": 53,
   "metadata": {},
   "outputs": [],
   "source": [
    "X_train, X_test, y_train, y_test = train_test_split(X, y, test_size=0.3, random_state=123)"
   ]
  },
  {
   "cell_type": "code",
   "execution_count": null,
   "metadata": {},
   "outputs": [],
   "source": []
  },
  {
   "cell_type": "markdown",
   "metadata": {},
   "source": [
    "#### Question 4"
   ]
  },
  {
   "cell_type": "code",
   "execution_count": 25,
   "metadata": {},
   "outputs": [],
   "source": [
    "\"\"\"First we need to define the regression method function\"\"\"\n",
    "def standlization(data):\n",
    "    mu = np.mean(data, axis=0)\n",
    "    sigma = np.std(data, axis=0)\n",
    "    sigma[sigma == 0] = 1\n",
    "    return (data - mu) / sigma\n",
    "\n",
    "def compute_gradient(y, tx, w):\n",
    "    \"\"\"Compute the gradient.\"\"\"\n",
    "    err = y - tx.dot(w)\n",
    "    grad = -tx.T.dot(err) / len(err)\n",
    "    return grad\n",
    "\n",
    "def gradient_descent(y, tx, initial_w, max_iters, gamma):\n",
    "    \"\"\"Gradient descent algorithm.\"\"\"\n",
    "    # Define parameters to store w and loss\n",
    "    w = initial_w\n",
    "    for n_iter in range(max_iters):\n",
    "        # compute loss, gradient\n",
    "        grad = compute_gradient(y, tx, w)\n",
    "        # update w by gradient descent\n",
    "        w = w - gamma * grad\n",
    "    return  w\n",
    "\n",
    "def  average_score_estimation(tx, w):\n",
    "    \"\"\"return the estimated everage score\"\"\"\n",
    "    return tx.dot(w)"
   ]
  },
  {
   "cell_type": "code",
   "execution_count": null,
   "metadata": {},
   "outputs": [],
   "source": []
  },
  {
   "cell_type": "code",
   "execution_count": 26,
   "metadata": {},
   "outputs": [
    {
     "name": "stdout",
     "output_type": "stream",
     "text": [
      "[6.99635662 7.2151751  7.37448338 ... 6.99635662 6.94523532 6.94523532]\n",
      "[6.98459016 6.99635662 7.37448338 ... 6.94523532 7.2151751  7.37448338]\n"
     ]
    }
   ],
   "source": [
    "\"\"\"Then we apply the model to the X_train set to predict the test set\"\"\"\n",
    "# Initialization\n",
    "w_initial = np.random.rand((X_train.shape[1]))\n",
    "max_iters = 5000\n",
    "gamma = 0.3\n",
    "w = gradient_descent(y_train, X_train, w_initial, max_iters, gamma)\n",
    "y_train_estimate = average_score_estimation(X_train, w)\n",
    "y_test_estimate = average_score_estimation(X_test, w)\n",
    "print(y_train_estimate)\n",
    "print(y_test_estimate)"
   ]
  },
  {
   "cell_type": "markdown",
   "metadata": {},
   "source": [
    "#### Question 5"
   ]
  },
  {
   "cell_type": "code",
   "execution_count": 27,
   "metadata": {},
   "outputs": [
    {
     "data": {
      "text/plain": [
       "0.013786458484265296"
      ]
     },
     "execution_count": 27,
     "metadata": {},
     "output_type": "execute_result"
    }
   ],
   "source": [
    "z = r2_score(y_test, y_test_estimate)\n",
    "z"
   ]
  },
  {
   "cell_type": "markdown",
   "metadata": {},
   "source": [
    "#### Question 6"
   ]
  },
  {
   "cell_type": "markdown",
   "metadata": {},
   "source": [
    "Because the data is a sample of all the datas, even it select 70% of training set, it still has bias.And the genre is not enough to predict the future score."
   ]
  },
  {
   "cell_type": "markdown",
   "metadata": {},
   "source": [
    "**Task 3 (Regression — 14 pts)**\n",
    "\n",
    "Finally, you get down to business and train your regression models.\n",
    "\n",
    "1. Build a Linear Regression model (use `sklearn`) that predicts the outcome `score` using the features \"releaseyear\",  \"key\", \"acousticness\", \"danceability\", \"energy\", \"instrumentalness\", \"liveness\", \"loudness\", \"speechiness\", \"valence\", \"tempo\" and the one-hot encoded genre-related columns.  Using a 70/30 train-test split similar to what you did in task two (hereinafter referred to as \"the random split\", use the same random seed, `random_state=123`), report the $R^2$ for the testing set.\n",
    "\n",
    "2. Create an alternate train-test split (hereinafter referred to as \"the longitudinal split\") where you train with data from albums released before 2000 and test with data from 2003 and after. Report the $R^2$ for the testing set using the same model you developed for the previous question. **Discuss:** give the correct interpretation of $R^2$ value for the longitudinal split.\n",
    "\n",
    "3. For a given entry $X$ your model outputs a predicted score $Y'$. The difference between the real score $Y$ and the predicted score $Y'$ is called the \"residual\". Considering the model trained in 3.2, plot the distribution of your residuals for the test set. Additionally, estimate what is the probability that your score prediction (from 3.2) is off by more than 2-points? Provide bootstrapped confidence intervals for your answer.\n",
    "\n",
    "4. Experiment with training a different regressor, a Gradient Boosting Regressor. This regressor is related to the Boosted decision trees that you have seen in class. This model performs extremely well for a variety of tasks and is often used in machine learning competitions for tabular data (e.g., on Kaggle). Train the regressor using the longitudinal split and the same features as in 3.2, use the default hyperparameters. Report the $R^2$ for the testing set. \n",
    "\n",
    "5. **Discuss:** Hypothesize a reason for the difference in performance between the Linear regression and the Gradient Boosting Regressor.\n",
    "\n",
    "---"
   ]
  },
  {
   "cell_type": "markdown",
   "metadata": {},
   "source": [
    "#### Question 1"
   ]
  },
  {
   "cell_type": "code",
   "execution_count": 28,
   "metadata": {},
   "outputs": [
    {
     "name": "stdout",
     "output_type": "stream",
     "text": [
      "0.044194953949232785\n"
     ]
    }
   ],
   "source": [
    "feature_names = df_onehot.columns[7:].values.tolist()\n",
    "feature_names.append('releaseyear')\n",
    "\n",
    "X = numpy_helper(df_onehot, feature_names)\n",
    "y = numpy_helper(df_onehot, 'score')\n",
    "\n",
    "X = standlization(X)\n",
    "X_train, X_test, y_train, y_test = train_test_split(X, y, test_size=0.3, random_state=123)\n",
    "lr = LinearRegression()\n",
    "lr.fit(X_train, y_train)\n",
    "y_predict = lr.predict(X_test)\n",
    "z = r2_score(y_test, y_predict)\n",
    "print(z)"
   ]
  },
  {
   "cell_type": "markdown",
   "metadata": {},
   "source": [
    "#### Question 2 + discuss"
   ]
  },
  {
   "cell_type": "code",
   "execution_count": 29,
   "metadata": {},
   "outputs": [
    {
     "name": "stdout",
     "output_type": "stream",
     "text": [
      "-0.28321511717102466\n"
     ]
    }
   ],
   "source": [
    "df1 = df_onehot[df_onehot['releaseyear'] < 2000] \n",
    "df2 = df_onehot[df_onehot['releaseyear'] >= 2003]\n",
    "\n",
    "X_train = numpy_helper(df1, feature_names) # train with data from albums released before 2000\n",
    "y_train = numpy_helper(df1, 'score')\n",
    "X_test = numpy_helper(df2, feature_names) # test with data from albums released after 2003$\n",
    "y_test = numpy_helper(df2, 'score')\n",
    "#X_train = standlization(X_train)\n",
    "#X_test = standlization(X_test)\n",
    "lr = LinearRegression()\n",
    "lr.fit(X_train, y_train)\n",
    "y_predict = lr.predict(X_test)\n",
    "z = r2_score(y_test, y_predict)\n",
    "print(z)"
   ]
  },
  {
   "cell_type": "code",
   "execution_count": 30,
   "metadata": {},
   "outputs": [],
   "source": [
    "### discuss"
   ]
  },
  {
   "cell_type": "markdown",
   "metadata": {},
   "source": [
    "#### Question 3"
   ]
  },
  {
   "cell_type": "code",
   "execution_count": 31,
   "metadata": {},
   "outputs": [],
   "source": [
    "res = y_test - y_predict"
   ]
  },
  {
   "cell_type": "code",
   "execution_count": 32,
   "metadata": {},
   "outputs": [
    {
     "data": {
      "text/plain": [
       "Text(0.5, 1.0, 'distribution of residuals for the test set.')"
      ]
     },
     "execution_count": 32,
     "metadata": {},
     "output_type": "execute_result"
    },
    {
     "data": {
      "image/png": "[encoded data removed]",
      "text/plain": [
       "<Figure size 432x288 with 1 Axes>"
      ]
     },
     "metadata": {
      "needs_background": "light"
     },
     "output_type": "display_data"
    }
   ],
   "source": [
    "ax = sns.distplot(res, hist=True)\n",
    "plt.xlabel(\"residual\")\n",
    "plt.title(\"distribution of residuals for the test set.\")"
   ]
  },
  {
   "cell_type": "code",
   "execution_count": 33,
   "metadata": {},
   "outputs": [
    {
     "name": "stdout",
     "output_type": "stream",
     "text": [
      "The propability is 0.10940889370932755\n"
     ]
    }
   ],
   "source": [
    "# estimate what is the probability that your score prediction (from 3.2) is off by more than 2-points\n",
    "print(\"The propability is {}\".format(np.sum(res < -2)/len(res)+np.sum(res > 2)/len(res)))"
   ]
  },
  {
   "cell_type": "code",
   "execution_count": 34,
   "metadata": {},
   "outputs": [
    {
     "name": "stdout",
     "output_type": "stream",
     "text": [
      "we have 95% confidence that the mean of res lies between : \n"
     ]
    },
    {
     "data": {
      "text/plain": [
       "(-0.5012657598216989, -0.46123632084700616)"
      ]
     },
     "execution_count": 34,
     "metadata": {},
     "output_type": "execute_result"
    }
   ],
   "source": [
    "#create 95% confidence interval for residuals  for the test set\n",
    "print(\"we have 95% confidence that the mean of res lies between : \")\n",
    "st.t.interval(alpha=0.95, df=len(res)-1, loc=np.mean(res), scale=st.sem(res))"
   ]
  },
  {
   "cell_type": "markdown",
   "metadata": {},
   "source": [
    "#### Question 4"
   ]
  },
  {
   "cell_type": "code",
   "execution_count": 35,
   "metadata": {},
   "outputs": [
    {
     "name": "stdout",
     "output_type": "stream",
     "text": [
      "The R2 score is  -0.4107430855276646\n"
     ]
    }
   ],
   "source": [
    "reg = GradientBoostingRegressor(random_state=0)\n",
    "reg.fit(X_train, y_train)\n",
    "y_predict = reg.predict(X_test)\n",
    "print(\"The R2 score is \", reg.score(X_test, y_test))"
   ]
  },
  {
   "cell_type": "markdown",
   "metadata": {},
   "source": [
    "#### Question 5 "
   ]
  },
  {
   "cell_type": "code",
   "execution_count": 36,
   "metadata": {},
   "outputs": [],
   "source": [
    "### discuss- Hypothesize a reason for the difference in performance between the Linear regression and the Gradient Boosting Regressor."
   ]
  },
  {
   "cell_type": "markdown",
   "metadata": {},
   "source": [
    "**Task 4 (Are we solving the correct problem? — 16 pts)**\n",
    "\n",
    "All your efforts so far have assumed that decisions are taken at the \"album\" level, which is often not the case for bands with multiple albums. In those cases, it could be interesting to predict what is the success of a given band album given the features of the album **and of previous albums**.\n",
    "\n",
    "1. Create a new dataframe that contains one row per band with more than 1 album. This dataframe should have the same columns as the data provided to you, considering the latest album of the respective band (note that this is determined by the release year of the album, not the date when it was reviewed). Additionally, for each feature considered in Task 3.1 (including the one-hot encoded features), create an additional column post-fixed with `_previous` (e.g., `danceability_previous`). These columns should contain the average values for all of the band's previous albums. Also, create a column `score_previous` with the average score of previous albums. Print the number of rows in the dataframe as well as the name of the columns.\n",
    "\n",
    "2. Train a Gradient Boosting Regressor considering all features created in Task 4.1 (note that `score` is the outcome and everything else is a feature, including `score_previous`). Use the 70/30 random train-test split, the default hyperparameters, and report the $R^2$ for the testing set. \n",
    "\n",
    "3. Can hyperparameter tuning improve your model? Write modular code (i.e., a function) to divide your training data into $N$ folds and perform cross-validation. Experiment tuning two hyperparameters of the Gradient Boosting Regressor: `n_estimators` and `learning_rate`. For each possible combination of the two hyperparameters (see below for the range of values that you should try for each hyperparameter), train your model in a cross-validation setup with $N=20$ folds. Report the mean  $R^2$ along with the 90% CI for each scenario. \n",
    "    - n_estimators $ \\in  \\{ 100, 200, 300, 400\\}$\n",
    "    - learning_rate $ \\in  \\{ 0.1, 0.05, 0.01\\}$.\n",
    " \n",
    " With the best hyperparameters obtained, train your model with the entire training set and report the $R^2$ on the testing set.\n",
    " \n",
    "4. **Discuss:** How do these results compare with the previous setup (the scenario considered in **Task 3.4**)? Point out two reasons why it is hard to compare the results obtained in 4.3 and 3.4 at face value? How would you fairly compare the two different setups?\n",
    "\n",
    "---"
   ]
  },
  {
   "cell_type": "markdown",
   "metadata": {},
   "source": [
    "#### Question 1"
   ]
  },
  {
   "cell_type": "code",
   "execution_count": 58,
   "metadata": {},
   "outputs": [],
   "source": [
    "# create the names of the news columns\n",
    "columns = df_onehot.columns.values[7:].tolist()\n",
    "columns.append('score')\n",
    "new_columns = np.array(columns, dtype=object) + '_previous'\n",
    "\n",
    "# compute the features mean of the previous albums\n",
    "df_onehot[new_columns] = df_onehot.sort_values('releaseyear').groupby('artist')[columns] \\\n",
    ".transform(lambda x: x[:-1].mean() if len(x) > 1 else None)"
   ]
  },
  {
   "cell_type": "code",
   "execution_count": 60,
   "metadata": {},
   "outputs": [
    {
     "data": {
      "text/html": [
       "<div>\n",
       "<style scoped>\n",
       "    .dataframe tbody tr th:only-of-type {\n",
       "        vertical-align: middle;\n",
       "    }\n",
       "\n",
       "    .dataframe tbody tr th {\n",
       "        vertical-align: top;\n",
       "    }\n",
       "\n",
       "    .dataframe thead th {\n",
       "        text-align: right;\n",
       "    }\n",
       "</style>\n",
       "<table border=\"1\" class=\"dataframe\">\n",
       "  <thead>\n",
       "    <tr style=\"text-align: right;\">\n",
       "      <th></th>\n",
       "      <th>artist</th>\n",
       "      <th>album</th>\n",
       "      <th>reviewauthor</th>\n",
       "      <th>score</th>\n",
       "      <th>releaseyear</th>\n",
       "      <th>reviewdate</th>\n",
       "      <th>recordlabel</th>\n",
       "      <th>danceability</th>\n",
       "      <th>energy</th>\n",
       "      <th>key</th>\n",
       "      <th>...</th>\n",
       "      <th>Experimental_onehot_previous</th>\n",
       "      <th>Folk/Country_onehot_previous</th>\n",
       "      <th>Global_onehot_previous</th>\n",
       "      <th>Jazz_onehot_previous</th>\n",
       "      <th>Metal_onehot_previous</th>\n",
       "      <th>Pop/R&amp;B_onehot_previous</th>\n",
       "      <th>Rap_onehot_previous</th>\n",
       "      <th>Rock_onehot_previous</th>\n",
       "      <th>other_onehot_previous</th>\n",
       "      <th>score_previous</th>\n",
       "    </tr>\n",
       "  </thead>\n",
       "  <tbody>\n",
       "    <tr>\n",
       "      <th>7858</th>\n",
       "      <td>Ornette Coleman</td>\n",
       "      <td>Ornette!</td>\n",
       "      <td>Alex Linhardt</td>\n",
       "      <td>8.8</td>\n",
       "      <td>1962.0</td>\n",
       "      <td>March 11 2004</td>\n",
       "      <td>Atlantic</td>\n",
       "      <td>0.523800</td>\n",
       "      <td>0.356200</td>\n",
       "      <td>6.000000</td>\n",
       "      <td>...</td>\n",
       "      <td>0.0</td>\n",
       "      <td>0.0</td>\n",
       "      <td>0.0</td>\n",
       "      <td>1.0</td>\n",
       "      <td>0.0</td>\n",
       "      <td>0.0</td>\n",
       "      <td>0.0</td>\n",
       "      <td>0.0</td>\n",
       "      <td>0.0</td>\n",
       "      <td>9.400000</td>\n",
       "    </tr>\n",
       "    <tr>\n",
       "      <th>11485</th>\n",
       "      <td>Harry Nilsson</td>\n",
       "      <td>Son of Schmilsson</td>\n",
       "      <td>Dominique Leone</td>\n",
       "      <td>6.5</td>\n",
       "      <td>1972.0</td>\n",
       "      <td>June 9 2006</td>\n",
       "      <td>RCA</td>\n",
       "      <td>0.557000</td>\n",
       "      <td>0.457155</td>\n",
       "      <td>5.090909</td>\n",
       "      <td>...</td>\n",
       "      <td>0.0</td>\n",
       "      <td>0.0</td>\n",
       "      <td>0.0</td>\n",
       "      <td>0.0</td>\n",
       "      <td>0.0</td>\n",
       "      <td>0.0</td>\n",
       "      <td>0.0</td>\n",
       "      <td>1.0</td>\n",
       "      <td>0.0</td>\n",
       "      <td>9.400000</td>\n",
       "    </tr>\n",
       "    <tr>\n",
       "      <th>9904</th>\n",
       "      <td>T. Rex</td>\n",
       "      <td>Tanx</td>\n",
       "      <td>Stephen M. Deusner</td>\n",
       "      <td>8.3</td>\n",
       "      <td>1973.0</td>\n",
       "      <td>February 5 2006</td>\n",
       "      <td>Wizard</td>\n",
       "      <td>0.472769</td>\n",
       "      <td>0.754692</td>\n",
       "      <td>6.538462</td>\n",
       "      <td>...</td>\n",
       "      <td>0.0</td>\n",
       "      <td>0.0</td>\n",
       "      <td>0.0</td>\n",
       "      <td>0.0</td>\n",
       "      <td>0.0</td>\n",
       "      <td>0.0</td>\n",
       "      <td>0.0</td>\n",
       "      <td>1.0</td>\n",
       "      <td>0.0</td>\n",
       "      <td>9.650000</td>\n",
       "    </tr>\n",
       "    <tr>\n",
       "      <th>208</th>\n",
       "      <td>Michael Yonkers</td>\n",
       "      <td>Grimwood</td>\n",
       "      <td>Andrew Gaerig</td>\n",
       "      <td>6.2</td>\n",
       "      <td>1974.0</td>\n",
       "      <td>October 22 2007</td>\n",
       "      <td>Self-released</td>\n",
       "      <td>0.430333</td>\n",
       "      <td>0.311250</td>\n",
       "      <td>6.833333</td>\n",
       "      <td>...</td>\n",
       "      <td>0.0</td>\n",
       "      <td>0.0</td>\n",
       "      <td>0.0</td>\n",
       "      <td>0.0</td>\n",
       "      <td>0.0</td>\n",
       "      <td>0.0</td>\n",
       "      <td>0.0</td>\n",
       "      <td>1.0</td>\n",
       "      <td>0.0</td>\n",
       "      <td>7.150000</td>\n",
       "    </tr>\n",
       "    <tr>\n",
       "      <th>15226</th>\n",
       "      <td>Flamin' Groovies</td>\n",
       "      <td>Shake Some Action</td>\n",
       "      <td>Joe Tangari</td>\n",
       "      <td>8.5</td>\n",
       "      <td>1976.0</td>\n",
       "      <td>September 5 2005</td>\n",
       "      <td>Sire</td>\n",
       "      <td>0.439357</td>\n",
       "      <td>0.734071</td>\n",
       "      <td>4.142857</td>\n",
       "      <td>...</td>\n",
       "      <td>0.0</td>\n",
       "      <td>0.0</td>\n",
       "      <td>0.0</td>\n",
       "      <td>0.0</td>\n",
       "      <td>0.0</td>\n",
       "      <td>0.0</td>\n",
       "      <td>0.0</td>\n",
       "      <td>0.0</td>\n",
       "      <td>0.0</td>\n",
       "      <td>7.500000</td>\n",
       "    </tr>\n",
       "    <tr>\n",
       "      <th>...</th>\n",
       "      <td>...</td>\n",
       "      <td>...</td>\n",
       "      <td>...</td>\n",
       "      <td>...</td>\n",
       "      <td>...</td>\n",
       "      <td>...</td>\n",
       "      <td>...</td>\n",
       "      <td>...</td>\n",
       "      <td>...</td>\n",
       "      <td>...</td>\n",
       "      <td>...</td>\n",
       "      <td>...</td>\n",
       "      <td>...</td>\n",
       "      <td>...</td>\n",
       "      <td>...</td>\n",
       "      <td>...</td>\n",
       "      <td>...</td>\n",
       "      <td>...</td>\n",
       "      <td>...</td>\n",
       "      <td>...</td>\n",
       "      <td>...</td>\n",
       "    </tr>\n",
       "    <tr>\n",
       "      <th>1940</th>\n",
       "      <td>Aretha Franklin</td>\n",
       "      <td>Songs of Faith: Aretha Gospel</td>\n",
       "      <td>Caryn Rose</td>\n",
       "      <td>8.0</td>\n",
       "      <td>2019.0</td>\n",
       "      <td>March 25 2019</td>\n",
       "      <td>Geffen</td>\n",
       "      <td>0.358778</td>\n",
       "      <td>0.325333</td>\n",
       "      <td>4.666667</td>\n",
       "      <td>...</td>\n",
       "      <td>0.0</td>\n",
       "      <td>0.0</td>\n",
       "      <td>0.0</td>\n",
       "      <td>0.0</td>\n",
       "      <td>0.0</td>\n",
       "      <td>1.0</td>\n",
       "      <td>0.0</td>\n",
       "      <td>0.0</td>\n",
       "      <td>0.0</td>\n",
       "      <td>9.000000</td>\n",
       "    </tr>\n",
       "    <tr>\n",
       "      <th>8355</th>\n",
       "      <td>The Mountain Goats</td>\n",
       "      <td>In League With Dragons</td>\n",
       "      <td>Arielle Gordon</td>\n",
       "      <td>7.4</td>\n",
       "      <td>2019.0</td>\n",
       "      <td>April 30 2019</td>\n",
       "      <td>Merge</td>\n",
       "      <td>0.608000</td>\n",
       "      <td>0.461167</td>\n",
       "      <td>6.250000</td>\n",
       "      <td>...</td>\n",
       "      <td>0.0</td>\n",
       "      <td>0.0</td>\n",
       "      <td>0.0</td>\n",
       "      <td>0.0</td>\n",
       "      <td>0.0</td>\n",
       "      <td>0.0</td>\n",
       "      <td>0.0</td>\n",
       "      <td>1.0</td>\n",
       "      <td>0.0</td>\n",
       "      <td>7.764286</td>\n",
       "    </tr>\n",
       "    <tr>\n",
       "      <th>8944</th>\n",
       "      <td>Boogie</td>\n",
       "      <td>Everything’s for Sale</td>\n",
       "      <td>Trey Alston</td>\n",
       "      <td>7.1</td>\n",
       "      <td>2019.0</td>\n",
       "      <td>January 31 2019</td>\n",
       "      <td>Shady</td>\n",
       "      <td>0.472500</td>\n",
       "      <td>0.829500</td>\n",
       "      <td>5.900000</td>\n",
       "      <td>...</td>\n",
       "      <td>0.0</td>\n",
       "      <td>0.0</td>\n",
       "      <td>0.0</td>\n",
       "      <td>0.0</td>\n",
       "      <td>0.0</td>\n",
       "      <td>0.0</td>\n",
       "      <td>1.0</td>\n",
       "      <td>0.0</td>\n",
       "      <td>0.0</td>\n",
       "      <td>7.500000</td>\n",
       "    </tr>\n",
       "    <tr>\n",
       "      <th>13845</th>\n",
       "      <td>DaBaby</td>\n",
       "      <td>Baby On Baby</td>\n",
       "      <td>Paul A. Thompson</td>\n",
       "      <td>7.7</td>\n",
       "      <td>2019.0</td>\n",
       "      <td>March 8 2019</td>\n",
       "      <td>Interscope</td>\n",
       "      <td>0.826769</td>\n",
       "      <td>0.700769</td>\n",
       "      <td>5.000000</td>\n",
       "      <td>...</td>\n",
       "      <td>0.0</td>\n",
       "      <td>0.0</td>\n",
       "      <td>0.0</td>\n",
       "      <td>0.0</td>\n",
       "      <td>0.0</td>\n",
       "      <td>0.0</td>\n",
       "      <td>1.0</td>\n",
       "      <td>0.0</td>\n",
       "      <td>0.0</td>\n",
       "      <td>7.600000</td>\n",
       "    </tr>\n",
       "    <tr>\n",
       "      <th>14326</th>\n",
       "      <td>Fennesz</td>\n",
       "      <td>Agora</td>\n",
       "      <td>Mark Richardson</td>\n",
       "      <td>8.5</td>\n",
       "      <td>2019.0</td>\n",
       "      <td>April 2 2019</td>\n",
       "      <td>Touch</td>\n",
       "      <td>0.122600</td>\n",
       "      <td>0.434250</td>\n",
       "      <td>6.750000</td>\n",
       "      <td>...</td>\n",
       "      <td>1.0</td>\n",
       "      <td>0.0</td>\n",
       "      <td>0.0</td>\n",
       "      <td>0.0</td>\n",
       "      <td>0.0</td>\n",
       "      <td>0.0</td>\n",
       "      <td>0.0</td>\n",
       "      <td>0.0</td>\n",
       "      <td>0.0</td>\n",
       "      <td>7.981818</td>\n",
       "    </tr>\n",
       "  </tbody>\n",
       "</table>\n",
       "<p>3564 rows × 48 columns</p>\n",
       "</div>"
      ],
      "text/plain": [
       "                   artist                          album        reviewauthor  \\\n",
       "7858      Ornette Coleman                       Ornette!       Alex Linhardt   \n",
       "11485       Harry Nilsson              Son of Schmilsson     Dominique Leone   \n",
       "9904               T. Rex                           Tanx  Stephen M. Deusner   \n",
       "208       Michael Yonkers                       Grimwood       Andrew Gaerig   \n",
       "15226    Flamin' Groovies              Shake Some Action         Joe Tangari   \n",
       "...                   ...                            ...                 ...   \n",
       "1940      Aretha Franklin  Songs of Faith: Aretha Gospel          Caryn Rose   \n",
       "8355   The Mountain Goats         In League With Dragons      Arielle Gordon   \n",
       "8944               Boogie          Everything’s for Sale         Trey Alston   \n",
       "13845              DaBaby                   Baby On Baby    Paul A. Thompson   \n",
       "14326             Fennesz                          Agora     Mark Richardson   \n",
       "\n",
       "       score  releaseyear        reviewdate    recordlabel  danceability  \\\n",
       "7858     8.8       1962.0     March 11 2004       Atlantic      0.523800   \n",
       "11485    6.5       1972.0       June 9 2006            RCA      0.557000   \n",
       "9904     8.3       1973.0   February 5 2006         Wizard      0.472769   \n",
       "208      6.2       1974.0   October 22 2007  Self-released      0.430333   \n",
       "15226    8.5       1976.0  September 5 2005           Sire      0.439357   \n",
       "...      ...          ...               ...            ...           ...   \n",
       "1940     8.0       2019.0     March 25 2019         Geffen      0.358778   \n",
       "8355     7.4       2019.0     April 30 2019          Merge      0.608000   \n",
       "8944     7.1       2019.0   January 31 2019          Shady      0.472500   \n",
       "13845    7.7       2019.0      March 8 2019     Interscope      0.826769   \n",
       "14326    8.5       2019.0      April 2 2019          Touch      0.122600   \n",
       "\n",
       "         energy       key  ...  Experimental_onehot_previous  \\\n",
       "7858   0.356200  6.000000  ...                           0.0   \n",
       "11485  0.457155  5.090909  ...                           0.0   \n",
       "9904   0.754692  6.538462  ...                           0.0   \n",
       "208    0.311250  6.833333  ...                           0.0   \n",
       "15226  0.734071  4.142857  ...                           0.0   \n",
       "...         ...       ...  ...                           ...   \n",
       "1940   0.325333  4.666667  ...                           0.0   \n",
       "8355   0.461167  6.250000  ...                           0.0   \n",
       "8944   0.829500  5.900000  ...                           0.0   \n",
       "13845  0.700769  5.000000  ...                           0.0   \n",
       "14326  0.434250  6.750000  ...                           1.0   \n",
       "\n",
       "       Folk/Country_onehot_previous  Global_onehot_previous  \\\n",
       "7858                            0.0                     0.0   \n",
       "11485                           0.0                     0.0   \n",
       "9904                            0.0                     0.0   \n",
       "208                             0.0                     0.0   \n",
       "15226                           0.0                     0.0   \n",
       "...                             ...                     ...   \n",
       "1940                            0.0                     0.0   \n",
       "8355                            0.0                     0.0   \n",
       "8944                            0.0                     0.0   \n",
       "13845                           0.0                     0.0   \n",
       "14326                           0.0                     0.0   \n",
       "\n",
       "       Jazz_onehot_previous  Metal_onehot_previous  Pop/R&B_onehot_previous  \\\n",
       "7858                    1.0                    0.0                      0.0   \n",
       "11485                   0.0                    0.0                      0.0   \n",
       "9904                    0.0                    0.0                      0.0   \n",
       "208                     0.0                    0.0                      0.0   \n",
       "15226                   0.0                    0.0                      0.0   \n",
       "...                     ...                    ...                      ...   \n",
       "1940                    0.0                    0.0                      1.0   \n",
       "8355                    0.0                    0.0                      0.0   \n",
       "8944                    0.0                    0.0                      0.0   \n",
       "13845                   0.0                    0.0                      0.0   \n",
       "14326                   0.0                    0.0                      0.0   \n",
       "\n",
       "       Rap_onehot_previous  Rock_onehot_previous  other_onehot_previous  \\\n",
       "7858                   0.0                   0.0                    0.0   \n",
       "11485                  0.0                   1.0                    0.0   \n",
       "9904                   0.0                   1.0                    0.0   \n",
       "208                    0.0                   1.0                    0.0   \n",
       "15226                  0.0                   0.0                    0.0   \n",
       "...                    ...                   ...                    ...   \n",
       "1940                   0.0                   0.0                    0.0   \n",
       "8355                   0.0                   1.0                    0.0   \n",
       "8944                   1.0                   0.0                    0.0   \n",
       "13845                  1.0                   0.0                    0.0   \n",
       "14326                  0.0                   0.0                    0.0   \n",
       "\n",
       "       score_previous  \n",
       "7858         9.400000  \n",
       "11485        9.400000  \n",
       "9904         9.650000  \n",
       "208          7.150000  \n",
       "15226        7.500000  \n",
       "...               ...  \n",
       "1940         9.000000  \n",
       "8355         7.764286  \n",
       "8944         7.500000  \n",
       "13845        7.600000  \n",
       "14326        7.981818  \n",
       "\n",
       "[3564 rows x 48 columns]"
      ]
     },
     "execution_count": 60,
     "metadata": {},
     "output_type": "execute_result"
    }
   ],
   "source": [
    "# Keep only the artists with more than one album and keep only their last album\n",
    "new_df = df_onehot.sort_values('releaseyear').groupby('artist').filter(lambda x: len(x)  > 1).groupby('artist').tail(1)\n",
    "new_df"
   ]
  },
  {
   "cell_type": "code",
   "execution_count": 61,
   "metadata": {},
   "outputs": [
    {
     "name": "stdout",
     "output_type": "stream",
     "text": [
      "Number of rows: 3564\n",
      "Columns name: ['artist' 'album' 'reviewauthor' 'score' 'releaseyear' 'reviewdate'\n",
      " 'recordlabel' 'danceability' 'energy' 'key' 'loudness' 'speechiness'\n",
      " 'acousticness' 'instrumentalness' 'liveness' 'valence' 'tempo'\n",
      " 'Electronic_onehot' 'Experimental_onehot' 'Folk/Country_onehot'\n",
      " 'Global_onehot' 'Jazz_onehot' 'Metal_onehot' 'Pop/R&B_onehot'\n",
      " 'Rap_onehot' 'Rock_onehot' 'other_onehot' 'danceability_previous'\n",
      " 'energy_previous' 'key_previous' 'loudness_previous'\n",
      " 'speechiness_previous' 'acousticness_previous'\n",
      " 'instrumentalness_previous' 'liveness_previous' 'valence_previous'\n",
      " 'tempo_previous' 'Electronic_onehot_previous'\n",
      " 'Experimental_onehot_previous' 'Folk/Country_onehot_previous'\n",
      " 'Global_onehot_previous' 'Jazz_onehot_previous' 'Metal_onehot_previous'\n",
      " 'Pop/R&B_onehot_previous' 'Rap_onehot_previous' 'Rock_onehot_previous'\n",
      " 'other_onehot_previous' 'score_previous']\n"
     ]
    }
   ],
   "source": [
    "print('Number of rows:', len(new_df))\n",
    "print('Columns name:', new_df.columns.values)"
   ]
  },
  {
   "cell_type": "markdown",
   "metadata": {},
   "source": [
    "#### Question 2"
   ]
  },
  {
   "cell_type": "code",
   "execution_count": 62,
   "metadata": {},
   "outputs": [],
   "source": [
    "# select the features columns\n",
    "features_name = new_df.columns[7:].values.tolist()\n",
    "features_name.append('releaseyear')\n",
    "\n",
    "X = numpy_helper(new_df, features_name)\n",
    "y = numpy_helper(new_df, ['score'])\n",
    "X = standlization(X)\n",
    "X_train, X_test, y_train, y_test = train_test_split(X, y, test_size=0.3, random_state=123)"
   ]
  },
  {
   "cell_type": "code",
   "execution_count": 63,
   "metadata": {},
   "outputs": [
    {
     "name": "stdout",
     "output_type": "stream",
     "text": [
      "The R2 score is  0.21584949573955214\n"
     ]
    }
   ],
   "source": [
    "reg = GradientBoostingRegressor(random_state=0)\n",
    "reg.fit(X_train, y_train)\n",
    "y_predict = reg.predict(X_test)\n",
    "print(\"The R2 score is \",reg.score(X_test, y_test))"
   ]
  },
  {
   "cell_type": "markdown",
   "metadata": {},
   "source": [
    "#### Question 3"
   ]
  },
  {
   "cell_type": "code",
   "execution_count": 42,
   "metadata": {},
   "outputs": [],
   "source": [
    "def cross_validation(X, y, n, model):\n",
    "    \"\"\"\n",
    "    Compute the cross-validation of the model and return the averaged R2 score\n",
    "    \n",
    "    Input:\n",
    "    - X: Input data features\n",
    "    - y: Data labels\n",
    "    - n: Number of folds\n",
    "    - model: the model we want to apply the cross-validation (GradientBoostingRegressor, ...)\n",
    "    \n",
    "    Output:\n",
    "    - The mean of the n R2 scores\n",
    "    \"\"\"\n",
    "    \n",
    "    R2_score = []    \n",
    "    kf = sklearn.model_selection.KFold(n_splits=n, random_state=0)\n",
    "    \n",
    "    for train_index, val_index in kf.split(X):\n",
    "        X_train, X_val = X[train_index], X[val_index]\n",
    "        y_train, y_val = y[train_index], y[val_index]\n",
    "        model.fit(X_train, y_train)\n",
    "        y_predict = model.predict(X_val)\n",
    "        \n",
    "        R2_sc = model.score(X_val, y_val)\n",
    "        R2_score.append(R2_sc)\n",
    "        \n",
    "    return sum(R2_score)/n"
   ]
  },
  {
   "cell_type": "code",
   "execution_count": 43,
   "metadata": {},
   "outputs": [
    {
     "ename": "KeyboardInterrupt",
     "evalue": "",
     "output_type": "error",
     "traceback": [
      "\u001b[1;31m---------------------------------------------------------------------------\u001b[0m",
      "\u001b[1;31mKeyboardInterrupt\u001b[0m                         Traceback (most recent call last)",
      "\u001b[1;32m<ipython-input-43-2360ab11867e>\u001b[0m in \u001b[0;36m<module>\u001b[1;34m\u001b[0m\n\u001b[0;32m      8\u001b[0m     \u001b[1;32mfor\u001b[0m \u001b[0mj\u001b[0m \u001b[1;32min\u001b[0m \u001b[0mrange\u001b[0m\u001b[1;33m(\u001b[0m\u001b[0mlen\u001b[0m\u001b[1;33m(\u001b[0m\u001b[0mlr\u001b[0m\u001b[1;33m)\u001b[0m\u001b[1;33m)\u001b[0m\u001b[1;33m:\u001b[0m\u001b[1;33m\u001b[0m\u001b[1;33m\u001b[0m\u001b[0m\n\u001b[0;32m      9\u001b[0m         \u001b[0mreg\u001b[0m \u001b[1;33m=\u001b[0m \u001b[0mGradientBoostingRegressor\u001b[0m\u001b[1;33m(\u001b[0m\u001b[0mrandom_state\u001b[0m\u001b[1;33m=\u001b[0m\u001b[1;36m0\u001b[0m\u001b[1;33m,\u001b[0m \u001b[0mn_estimators\u001b[0m\u001b[1;33m=\u001b[0m\u001b[0mn_est\u001b[0m\u001b[1;33m[\u001b[0m\u001b[0mi\u001b[0m\u001b[1;33m]\u001b[0m\u001b[1;33m,\u001b[0m \u001b[0mlearning_rate\u001b[0m\u001b[1;33m=\u001b[0m\u001b[0mlr\u001b[0m\u001b[1;33m[\u001b[0m\u001b[0mj\u001b[0m\u001b[1;33m]\u001b[0m\u001b[1;33m)\u001b[0m\u001b[1;33m\u001b[0m\u001b[1;33m\u001b[0m\u001b[0m\n\u001b[1;32m---> 10\u001b[1;33m         \u001b[0mscore\u001b[0m\u001b[1;33m.\u001b[0m\u001b[0mappend\u001b[0m\u001b[1;33m(\u001b[0m\u001b[0mcross_validation\u001b[0m\u001b[1;33m(\u001b[0m\u001b[0mX_train\u001b[0m\u001b[1;33m,\u001b[0m \u001b[0my_train\u001b[0m\u001b[1;33m,\u001b[0m \u001b[0mn\u001b[0m\u001b[1;33m,\u001b[0m \u001b[0mreg\u001b[0m\u001b[1;33m)\u001b[0m\u001b[1;33m)\u001b[0m\u001b[1;33m\u001b[0m\u001b[1;33m\u001b[0m\u001b[0m\n\u001b[0m\u001b[0;32m     11\u001b[0m \u001b[1;33m\u001b[0m\u001b[0m\n\u001b[0;32m     12\u001b[0m \u001b[0mprint\u001b[0m\u001b[1;33m(\u001b[0m\u001b[1;34m'The R2 scores is'\u001b[0m\u001b[1;33m,\u001b[0m \u001b[0mscore\u001b[0m\u001b[1;33m)\u001b[0m\u001b[1;33m\u001b[0m\u001b[1;33m\u001b[0m\u001b[0m\n",
      "\u001b[1;32m<ipython-input-42-c3f47e97510a>\u001b[0m in \u001b[0;36mcross_validation\u001b[1;34m(X, y, n, model)\u001b[0m\n\u001b[0;32m     19\u001b[0m         \u001b[0mX_train\u001b[0m\u001b[1;33m,\u001b[0m \u001b[0mX_val\u001b[0m \u001b[1;33m=\u001b[0m \u001b[0mX\u001b[0m\u001b[1;33m[\u001b[0m\u001b[0mtrain_index\u001b[0m\u001b[1;33m]\u001b[0m\u001b[1;33m,\u001b[0m \u001b[0mX\u001b[0m\u001b[1;33m[\u001b[0m\u001b[0mval_index\u001b[0m\u001b[1;33m]\u001b[0m\u001b[1;33m\u001b[0m\u001b[1;33m\u001b[0m\u001b[0m\n\u001b[0;32m     20\u001b[0m         \u001b[0my_train\u001b[0m\u001b[1;33m,\u001b[0m \u001b[0my_val\u001b[0m \u001b[1;33m=\u001b[0m \u001b[0my\u001b[0m\u001b[1;33m[\u001b[0m\u001b[0mtrain_index\u001b[0m\u001b[1;33m]\u001b[0m\u001b[1;33m,\u001b[0m \u001b[0my\u001b[0m\u001b[1;33m[\u001b[0m\u001b[0mval_index\u001b[0m\u001b[1;33m]\u001b[0m\u001b[1;33m\u001b[0m\u001b[1;33m\u001b[0m\u001b[0m\n\u001b[1;32m---> 21\u001b[1;33m         \u001b[0mmodel\u001b[0m\u001b[1;33m.\u001b[0m\u001b[0mfit\u001b[0m\u001b[1;33m(\u001b[0m\u001b[0mX_train\u001b[0m\u001b[1;33m,\u001b[0m \u001b[0my_train\u001b[0m\u001b[1;33m)\u001b[0m\u001b[1;33m\u001b[0m\u001b[1;33m\u001b[0m\u001b[0m\n\u001b[0m\u001b[0;32m     22\u001b[0m         \u001b[0my_predict\u001b[0m \u001b[1;33m=\u001b[0m \u001b[0mmodel\u001b[0m\u001b[1;33m.\u001b[0m\u001b[0mpredict\u001b[0m\u001b[1;33m(\u001b[0m\u001b[0mX_val\u001b[0m\u001b[1;33m)\u001b[0m\u001b[1;33m\u001b[0m\u001b[1;33m\u001b[0m\u001b[0m\n\u001b[0;32m     23\u001b[0m \u001b[1;33m\u001b[0m\u001b[0m\n",
      "\u001b[1;32m~\\Anaconda3\\lib\\site-packages\\sklearn\\ensemble\\_gb.py\u001b[0m in \u001b[0;36mfit\u001b[1;34m(self, X, y, sample_weight, monitor)\u001b[0m\n\u001b[0;32m    498\u001b[0m         n_stages = self._fit_stages(\n\u001b[0;32m    499\u001b[0m             \u001b[0mX\u001b[0m\u001b[1;33m,\u001b[0m \u001b[0my\u001b[0m\u001b[1;33m,\u001b[0m \u001b[0mraw_predictions\u001b[0m\u001b[1;33m,\u001b[0m \u001b[0msample_weight\u001b[0m\u001b[1;33m,\u001b[0m \u001b[0mself\u001b[0m\u001b[1;33m.\u001b[0m\u001b[0m_rng\u001b[0m\u001b[1;33m,\u001b[0m \u001b[0mX_val\u001b[0m\u001b[1;33m,\u001b[0m \u001b[0my_val\u001b[0m\u001b[1;33m,\u001b[0m\u001b[1;33m\u001b[0m\u001b[1;33m\u001b[0m\u001b[0m\n\u001b[1;32m--> 500\u001b[1;33m             sample_weight_val, begin_at_stage, monitor, X_idx_sorted)\n\u001b[0m\u001b[0;32m    501\u001b[0m \u001b[1;33m\u001b[0m\u001b[0m\n\u001b[0;32m    502\u001b[0m         \u001b[1;31m# change shape of arrays after fit (early-stopping or additional ests)\u001b[0m\u001b[1;33m\u001b[0m\u001b[1;33m\u001b[0m\u001b[1;33m\u001b[0m\u001b[0m\n",
      "\u001b[1;32m~\\Anaconda3\\lib\\site-packages\\sklearn\\ensemble\\_gb.py\u001b[0m in \u001b[0;36m_fit_stages\u001b[1;34m(self, X, y, raw_predictions, sample_weight, random_state, X_val, y_val, sample_weight_val, begin_at_stage, monitor, X_idx_sorted)\u001b[0m\n\u001b[0;32m    555\u001b[0m             raw_predictions = self._fit_stage(\n\u001b[0;32m    556\u001b[0m                 \u001b[0mi\u001b[0m\u001b[1;33m,\u001b[0m \u001b[0mX\u001b[0m\u001b[1;33m,\u001b[0m \u001b[0my\u001b[0m\u001b[1;33m,\u001b[0m \u001b[0mraw_predictions\u001b[0m\u001b[1;33m,\u001b[0m \u001b[0msample_weight\u001b[0m\u001b[1;33m,\u001b[0m \u001b[0msample_mask\u001b[0m\u001b[1;33m,\u001b[0m\u001b[1;33m\u001b[0m\u001b[1;33m\u001b[0m\u001b[0m\n\u001b[1;32m--> 557\u001b[1;33m                 random_state, X_idx_sorted, X_csc, X_csr)\n\u001b[0m\u001b[0;32m    558\u001b[0m \u001b[1;33m\u001b[0m\u001b[0m\n\u001b[0;32m    559\u001b[0m             \u001b[1;31m# track deviance (= loss)\u001b[0m\u001b[1;33m\u001b[0m\u001b[1;33m\u001b[0m\u001b[1;33m\u001b[0m\u001b[0m\n",
      "\u001b[1;32m~\\Anaconda3\\lib\\site-packages\\sklearn\\ensemble\\_gb.py\u001b[0m in \u001b[0;36m_fit_stage\u001b[1;34m(self, i, X, y, raw_predictions, sample_weight, sample_mask, random_state, X_idx_sorted, X_csc, X_csr)\u001b[0m\n\u001b[0;32m    210\u001b[0m             \u001b[0mX\u001b[0m \u001b[1;33m=\u001b[0m \u001b[0mX_csr\u001b[0m \u001b[1;32mif\u001b[0m \u001b[0mX_csr\u001b[0m \u001b[1;32mis\u001b[0m \u001b[1;32mnot\u001b[0m \u001b[1;32mNone\u001b[0m \u001b[1;32melse\u001b[0m \u001b[0mX\u001b[0m\u001b[1;33m\u001b[0m\u001b[1;33m\u001b[0m\u001b[0m\n\u001b[0;32m    211\u001b[0m             tree.fit(X, residual, sample_weight=sample_weight,\n\u001b[1;32m--> 212\u001b[1;33m                      check_input=False, X_idx_sorted=X_idx_sorted)\n\u001b[0m\u001b[0;32m    213\u001b[0m \u001b[1;33m\u001b[0m\u001b[0m\n\u001b[0;32m    214\u001b[0m             \u001b[1;31m# update tree leaves\u001b[0m\u001b[1;33m\u001b[0m\u001b[1;33m\u001b[0m\u001b[1;33m\u001b[0m\u001b[0m\n",
      "\u001b[1;32m~\\Anaconda3\\lib\\site-packages\\sklearn\\tree\\_classes.py\u001b[0m in \u001b[0;36mfit\u001b[1;34m(self, X, y, sample_weight, check_input, X_idx_sorted)\u001b[0m\n\u001b[0;32m   1244\u001b[0m             \u001b[0msample_weight\u001b[0m\u001b[1;33m=\u001b[0m\u001b[0msample_weight\u001b[0m\u001b[1;33m,\u001b[0m\u001b[1;33m\u001b[0m\u001b[1;33m\u001b[0m\u001b[0m\n\u001b[0;32m   1245\u001b[0m             \u001b[0mcheck_input\u001b[0m\u001b[1;33m=\u001b[0m\u001b[0mcheck_input\u001b[0m\u001b[1;33m,\u001b[0m\u001b[1;33m\u001b[0m\u001b[1;33m\u001b[0m\u001b[0m\n\u001b[1;32m-> 1246\u001b[1;33m             X_idx_sorted=X_idx_sorted)\n\u001b[0m\u001b[0;32m   1247\u001b[0m         \u001b[1;32mreturn\u001b[0m \u001b[0mself\u001b[0m\u001b[1;33m\u001b[0m\u001b[1;33m\u001b[0m\u001b[0m\n\u001b[0;32m   1248\u001b[0m \u001b[1;33m\u001b[0m\u001b[0m\n",
      "\u001b[1;32m~\\Anaconda3\\lib\\site-packages\\sklearn\\tree\\_classes.py\u001b[0m in \u001b[0;36mfit\u001b[1;34m(self, X, y, sample_weight, check_input, X_idx_sorted)\u001b[0m\n\u001b[0;32m    373\u001b[0m                                            min_impurity_split)\n\u001b[0;32m    374\u001b[0m \u001b[1;33m\u001b[0m\u001b[0m\n\u001b[1;32m--> 375\u001b[1;33m         \u001b[0mbuilder\u001b[0m\u001b[1;33m.\u001b[0m\u001b[0mbuild\u001b[0m\u001b[1;33m(\u001b[0m\u001b[0mself\u001b[0m\u001b[1;33m.\u001b[0m\u001b[0mtree_\u001b[0m\u001b[1;33m,\u001b[0m \u001b[0mX\u001b[0m\u001b[1;33m,\u001b[0m \u001b[0my\u001b[0m\u001b[1;33m,\u001b[0m \u001b[0msample_weight\u001b[0m\u001b[1;33m,\u001b[0m \u001b[0mX_idx_sorted\u001b[0m\u001b[1;33m)\u001b[0m\u001b[1;33m\u001b[0m\u001b[1;33m\u001b[0m\u001b[0m\n\u001b[0m\u001b[0;32m    376\u001b[0m \u001b[1;33m\u001b[0m\u001b[0m\n\u001b[0;32m    377\u001b[0m         \u001b[1;32mif\u001b[0m \u001b[0mself\u001b[0m\u001b[1;33m.\u001b[0m\u001b[0mn_outputs_\u001b[0m \u001b[1;33m==\u001b[0m \u001b[1;36m1\u001b[0m \u001b[1;32mand\u001b[0m \u001b[0mis_classifier\u001b[0m\u001b[1;33m(\u001b[0m\u001b[0mself\u001b[0m\u001b[1;33m)\u001b[0m\u001b[1;33m:\u001b[0m\u001b[1;33m\u001b[0m\u001b[1;33m\u001b[0m\u001b[0m\n",
      "\u001b[1;31mKeyboardInterrupt\u001b[0m: "
     ]
    }
   ],
   "source": [
    "n = 20\n",
    "n_est = [100, 200, 300, 400]\n",
    "lr = [0.1, 0.05, 0.01]\n",
    "\n",
    "# Compute the cross-validation for all the different values of the parameters n_estimators and learning_rate\n",
    "score = []\n",
    "for i in range(len(n_est)):\n",
    "    for j in range(len(lr)):\n",
    "        reg = GradientBoostingRegressor(random_state=0, n_estimators=n_est[i], learning_rate=lr[j])\n",
    "        score.append(cross_validation(X_train, y_train, n, reg))\n",
    "\n",
    "print('The R2 scores is', score)"
   ]
  },
  {
   "cell_type": "code",
   "execution_count": null,
   "metadata": {},
   "outputs": [],
   "source": [
    "# (TO DO) compute the 90% CI for each scenario\n",
    "\n",
    "#st.t.interval(alpha=0.90, df=len(x)-1, loc=np.mean(x), scale=st.sem(x))"
   ]
  },
  {
   "cell_type": "code",
   "execution_count": null,
   "metadata": {},
   "outputs": [],
   "source": [
    "# get the indices of the best hyperparameters\n",
    "ind_max = np.argmax(np.array(score)) \n",
    "i, j = ind_max // 4 , ind_max % 3"
   ]
  },
  {
   "cell_type": "code",
   "execution_count": null,
   "metadata": {},
   "outputs": [],
   "source": [
    "# Train with the entire training set using the best hyperparameters and test it on the test set\n",
    "reg = GradientBoostingRegressor(random_state=0, n_estimators=n_est[i], learning_rate=lr[j])\n",
    "reg.fit(X_train, y_train)\n",
    "y_predict = reg.predict(X_test)\n",
    "print(\"The R2 score is \", reg.score(X_test, y_test))"
   ]
  },
  {
   "cell_type": "markdown",
   "metadata": {},
   "source": [
    "#### Question 4 (Discuss)"
   ]
  },
  {
   "cell_type": "code",
   "execution_count": null,
   "metadata": {},
   "outputs": [],
   "source": []
  },
  {
   "cell_type": "markdown",
   "metadata": {},
   "source": [
    "## Part 2: Second Album Syndrome\n",
    "\n",
    "Your second project at *Piccardi Music* is to shed light on one of the business's oldest enigmas: the \"second album syndrome.\" In a nutshell, the \"second album syndrome\" is a theory that states that the second album of a band always sucks. ([Related read](https://tvtropes.org/pmwiki/pmwiki.php/Main/SophomoreSlump))\n",
    "\n",
    "Assume—for the purpose of this task—that the Pitchfork data contains all albums for all artists it covers (even though this might not be true in reality)."
   ]
  },
  {
   "cell_type": "markdown",
   "metadata": {
    "pycharm": {
     "name": "#%% md\n"
    }
   },
   "source": [
    "**Task 5 (Preliminary analyses — 8 pts)**\n",
    "\n",
    "You begin by carrying out some preliminary data processing and analyses.\n",
    "\n",
    "1. Create a new dataframe (from the original data with duplicates dropped, the same as you obtained after finishing Task 1.1) containing only albums from artists with two or more albums and where the release year is not empty.\n",
    "2. Create a new column `album_number` which indicates how many albums the artist has produced before this one (before the second album, the artist has already produced one album).\n",
    "3. Calculate the mean and the standard error fo the mean of the scores of the first and second albums in the dataset. Additionally, plot the two distributions. \n",
    "4. Use an appropriate method to determine if the difference in means of 1st and 2nd albums is statistically significant?\n",
    "5. **Discuss:** Do these analyses suggest that the \"second album syndrome\" exists?\n",
    "\n",
    "---"
   ]
  },
  {
   "cell_type": "markdown",
   "metadata": {},
   "source": [
    "#### Question 1"
   ]
  },
  {
   "cell_type": "code",
   "execution_count": 65,
   "metadata": {},
   "outputs": [
    {
     "name": "stdout",
     "output_type": "stream",
     "text": [
      "16738\n",
      "12410\n"
     ]
    }
   ],
   "source": [
    "df = pd.read_csv(\"data/pitchfork.csv.gz\")\n",
    "df = df.drop_duplicates(subset=['artist', 'album'], keep='first')# remove duplicate reviews for the combine of artist and album\n",
    "df = df.reset_index()\n",
    "df= df.drop('index', 1)\n",
    "print(df.shape[0])\n",
    "df = df.groupby('artist').filter(lambda x: len(x) > 1)\n",
    "print(df.shape[0])\n"
   ]
  },
  {
   "cell_type": "code",
   "execution_count": 66,
   "metadata": {},
   "outputs": [
    {
     "data": {
      "text/plain": [
       "False"
      ]
     },
     "execution_count": 66,
     "metadata": {},
     "output_type": "execute_result"
    }
   ],
   "source": [
    "df['releaseyear'].isnull().values.any() # => no empty values for releaseyear"
   ]
  },
  {
   "cell_type": "markdown",
   "metadata": {},
   "source": [
    "#### Question 2"
   ]
  },
  {
   "cell_type": "code",
   "execution_count": 67,
   "metadata": {},
   "outputs": [],
   "source": [
    "df['album_number'] = df.sort_values('releaseyear').groupby('artist')['releaseyear'].cumcount()"
   ]
  },
  {
   "cell_type": "code",
   "execution_count": 74,
   "metadata": {},
   "outputs": [
    {
     "data": {
      "text/html": [
       "<div>\n",
       "<style scoped>\n",
       "    .dataframe tbody tr th:only-of-type {\n",
       "        vertical-align: middle;\n",
       "    }\n",
       "\n",
       "    .dataframe tbody tr th {\n",
       "        vertical-align: top;\n",
       "    }\n",
       "\n",
       "    .dataframe thead th {\n",
       "        text-align: right;\n",
       "    }\n",
       "</style>\n",
       "<table border=\"1\" class=\"dataframe\">\n",
       "  <thead>\n",
       "    <tr style=\"text-align: right;\">\n",
       "      <th></th>\n",
       "      <th>artist</th>\n",
       "      <th>album</th>\n",
       "      <th>reviewauthor</th>\n",
       "      <th>score</th>\n",
       "      <th>releaseyear</th>\n",
       "      <th>reviewdate</th>\n",
       "      <th>recordlabel</th>\n",
       "      <th>genre</th>\n",
       "      <th>danceability</th>\n",
       "      <th>energy</th>\n",
       "      <th>key</th>\n",
       "      <th>loudness</th>\n",
       "      <th>speechiness</th>\n",
       "      <th>acousticness</th>\n",
       "      <th>instrumentalness</th>\n",
       "      <th>liveness</th>\n",
       "      <th>valence</th>\n",
       "      <th>tempo</th>\n",
       "      <th>album_number</th>\n",
       "    </tr>\n",
       "  </thead>\n",
       "  <tbody>\n",
       "    <tr>\n",
       "      <th>1</th>\n",
       "      <td>John Fahey</td>\n",
       "      <td>The Great Santa Barbara Oil Slick</td>\n",
       "      <td>Mark Richardson</td>\n",
       "      <td>8.2</td>\n",
       "      <td>2005.0</td>\n",
       "      <td>February 13 2005</td>\n",
       "      <td>Water</td>\n",
       "      <td>Folk/Country</td>\n",
       "      <td>0.369765</td>\n",
       "      <td>0.325412</td>\n",
       "      <td>4.470588</td>\n",
       "      <td>-19.153824</td>\n",
       "      <td>0.148624</td>\n",
       "      <td>0.647053</td>\n",
       "      <td>0.559133</td>\n",
       "      <td>0.527782</td>\n",
       "      <td>0.179465</td>\n",
       "      <td>107.622647</td>\n",
       "      <td>2</td>\n",
       "    </tr>\n",
       "    <tr>\n",
       "      <th>2</th>\n",
       "      <td>Reigning Sound</td>\n",
       "      <td>Too Much Guitar</td>\n",
       "      <td>Stephen M. Deusner</td>\n",
       "      <td>8.3</td>\n",
       "      <td>2004.0</td>\n",
       "      <td>August 19 2004</td>\n",
       "      <td>In the Red</td>\n",
       "      <td>Electronic</td>\n",
       "      <td>0.253943</td>\n",
       "      <td>0.912857</td>\n",
       "      <td>4.428571</td>\n",
       "      <td>-1.089500</td>\n",
       "      <td>0.055500</td>\n",
       "      <td>0.000253</td>\n",
       "      <td>0.751214</td>\n",
       "      <td>0.199071</td>\n",
       "      <td>0.552786</td>\n",
       "      <td>133.895500</td>\n",
       "      <td>0</td>\n",
       "    </tr>\n",
       "    <tr>\n",
       "      <th>4</th>\n",
       "      <td>Mac Miller</td>\n",
       "      <td>Swimming</td>\n",
       "      <td>Evan Rytlewski</td>\n",
       "      <td>7.5</td>\n",
       "      <td>2018.0</td>\n",
       "      <td>August 3 2018</td>\n",
       "      <td>Warner Bros.</td>\n",
       "      <td>Rap</td>\n",
       "      <td>0.624846</td>\n",
       "      <td>0.438154</td>\n",
       "      <td>4.153846</td>\n",
       "      <td>-9.456077</td>\n",
       "      <td>0.170246</td>\n",
       "      <td>0.652462</td>\n",
       "      <td>0.012819</td>\n",
       "      <td>0.121131</td>\n",
       "      <td>0.281138</td>\n",
       "      <td>122.121308</td>\n",
       "      <td>4</td>\n",
       "    </tr>\n",
       "    <tr>\n",
       "      <th>5</th>\n",
       "      <td>French Kicks</td>\n",
       "      <td>Swimming</td>\n",
       "      <td>Roque Strew</td>\n",
       "      <td>7.6</td>\n",
       "      <td>2008.0</td>\n",
       "      <td>August 27 2008</td>\n",
       "      <td>Vagrant</td>\n",
       "      <td>Electronic</td>\n",
       "      <td>0.624846</td>\n",
       "      <td>0.438154</td>\n",
       "      <td>4.153846</td>\n",
       "      <td>-9.456077</td>\n",
       "      <td>0.170246</td>\n",
       "      <td>0.652462</td>\n",
       "      <td>0.012819</td>\n",
       "      <td>0.121131</td>\n",
       "      <td>0.281138</td>\n",
       "      <td>122.121308</td>\n",
       "      <td>3</td>\n",
       "    </tr>\n",
       "    <tr>\n",
       "      <th>6</th>\n",
       "      <td>Jessica Lea Mayfield</td>\n",
       "      <td>With Blasphemy So Heartfelt</td>\n",
       "      <td>Stephen M. Deusner</td>\n",
       "      <td>8.2</td>\n",
       "      <td>2008.0</td>\n",
       "      <td>November 11 2008</td>\n",
       "      <td>Polymer</td>\n",
       "      <td>Rock</td>\n",
       "      <td>0.447583</td>\n",
       "      <td>0.399083</td>\n",
       "      <td>6.500000</td>\n",
       "      <td>-8.402000</td>\n",
       "      <td>0.032267</td>\n",
       "      <td>0.694750</td>\n",
       "      <td>0.004033</td>\n",
       "      <td>0.123142</td>\n",
       "      <td>0.237933</td>\n",
       "      <td>111.549917</td>\n",
       "      <td>0</td>\n",
       "    </tr>\n",
       "  </tbody>\n",
       "</table>\n",
       "</div>"
      ],
      "text/plain": [
       "                 artist                              album  \\\n",
       "1            John Fahey  The Great Santa Barbara Oil Slick   \n",
       "2        Reigning Sound                    Too Much Guitar   \n",
       "4            Mac Miller                           Swimming   \n",
       "5          French Kicks                           Swimming   \n",
       "6  Jessica Lea Mayfield        With Blasphemy So Heartfelt   \n",
       "\n",
       "         reviewauthor  score  releaseyear        reviewdate   recordlabel  \\\n",
       "1     Mark Richardson    8.2       2005.0  February 13 2005         Water   \n",
       "2  Stephen M. Deusner    8.3       2004.0    August 19 2004    In the Red   \n",
       "4      Evan Rytlewski    7.5       2018.0     August 3 2018  Warner Bros.   \n",
       "5         Roque Strew    7.6       2008.0    August 27 2008       Vagrant   \n",
       "6  Stephen M. Deusner    8.2       2008.0  November 11 2008       Polymer   \n",
       "\n",
       "          genre  danceability    energy       key   loudness  speechiness  \\\n",
       "1  Folk/Country      0.369765  0.325412  4.470588 -19.153824     0.148624   \n",
       "2    Electronic      0.253943  0.912857  4.428571  -1.089500     0.055500   \n",
       "4           Rap      0.624846  0.438154  4.153846  -9.456077     0.170246   \n",
       "5    Electronic      0.624846  0.438154  4.153846  -9.456077     0.170246   \n",
       "6          Rock      0.447583  0.399083  6.500000  -8.402000     0.032267   \n",
       "\n",
       "   acousticness  instrumentalness  liveness   valence       tempo  \\\n",
       "1      0.647053          0.559133  0.527782  0.179465  107.622647   \n",
       "2      0.000253          0.751214  0.199071  0.552786  133.895500   \n",
       "4      0.652462          0.012819  0.121131  0.281138  122.121308   \n",
       "5      0.652462          0.012819  0.121131  0.281138  122.121308   \n",
       "6      0.694750          0.004033  0.123142  0.237933  111.549917   \n",
       "\n",
       "   album_number  \n",
       "1             2  \n",
       "2             0  \n",
       "4             4  \n",
       "5             3  \n",
       "6             0  "
      ]
     },
     "execution_count": 74,
     "metadata": {},
     "output_type": "execute_result"
    }
   ],
   "source": [
    "df.head()"
   ]
  },
  {
   "cell_type": "code",
   "execution_count": null,
   "metadata": {},
   "outputs": [],
   "source": []
  },
  {
   "cell_type": "markdown",
   "metadata": {},
   "source": [
    "#### Question 3"
   ]
  },
  {
   "cell_type": "code",
   "execution_count": 78,
   "metadata": {},
   "outputs": [
    {
     "name": "stdout",
     "output_type": "stream",
     "text": [
      "First album mean: 7.299579124579116\n",
      "Second album mean: 7.041722783389435\n",
      "First album std: 1.2361939643330664\n",
      "Second album std: 1.2716059558760142\n"
     ]
    }
   ],
   "source": [
    "score_first_album = df[df['album_number'] == 0]['score']\n",
    "score_second_album = df[df['album_number'] == 1]['score']\n",
    "\n",
    "mean_first_album = score_first_album.mean()\n",
    "mean_second_album = score_second_album.mean()\n",
    "std_first_album = score_first_album.std()\n",
    "std_second_album = score_second_album.std()\n",
    "\n",
    "print('First album mean:', mean_first_album)\n",
    "print('Second album mean:', mean_second_album)\n",
    "print('First album std:', std_first_album)\n",
    "print('Second album std:', std_second_album)"
   ]
  },
  {
   "cell_type": "code",
   "execution_count": 79,
   "metadata": {},
   "outputs": [
    {
     "data": {
      "text/plain": [
       "Text(0.5, 1.0, 'score density for the second album')"
      ]
     },
     "execution_count": 79,
     "metadata": {},
     "output_type": "execute_result"
    },
    {
     "data": {
      "image/png": "[encoded data removed]",
      "text/plain": [
       "<Figure size 1080x432 with 2 Axes>"
      ]
     },
     "metadata": {
      "needs_background": "light"
     },
     "output_type": "display_data"
    }
   ],
   "source": [
    "plt.figure(figsize=(15, 6))\n",
    "plt.subplot(1, 2, 1)\n",
    "sns.distplot(score_first_album)\n",
    "plt.title('score density for the first album')\n",
    "plt.subplot(1, 2, 2)\n",
    "sns.distplot(score_second_album)\n",
    "plt.title('score density for the second album')"
   ]
  },
  {
   "cell_type": "markdown",
   "metadata": {},
   "source": [
    "#### Question 4"
   ]
  },
  {
   "cell_type": "code",
   "execution_count": 80,
   "metadata": {},
   "outputs": [
    {
     "name": "stdout",
     "output_type": "stream",
     "text": [
      "Statistics=8.680115088839761, p=4.843510495812017e-18\n",
      "reject H0\n"
     ]
    }
   ],
   "source": [
    "# H0: the mean of the first album is equal to the mean of the second album\n",
    "stat, p = ttest_ind(score_first_album, score_second_album)\n",
    "print('Statistics={}, p={}'.format(stat, p))\n",
    "alpha = 0.05\n",
    "if p > alpha:\n",
    "    print('fail to reject H0')\n",
    "else:\n",
    "    print('reject H0')"
   ]
  },
  {
   "cell_type": "markdown",
   "metadata": {},
   "source": [
    "#### Question 5 (Discuss)\n",
    "Yes, because the null hypothesis (score mean of the first album is equal to the score mean of the second album) has been rejected. So it means we don't have the same distribution. Moreover, the score mean of the first album is greater than the score mean of the second album."
   ]
  },
  {
   "cell_type": "markdown",
   "metadata": {},
   "source": [
    "**Task 6 (Regression analysis — 20 pts)**\n",
    "\n",
    "Next, you proceed to examine some hypotheses about the \"second album syndrome\" using a regression framework. Namely:\n",
    "\n",
    "- The **time spent hypothesis:**  the first album usually has a couple of years of development under its belt and plenty of trial and error from live concerts to help the band determine what does or doesn't work. The second album, on the other hand, is often made in a rush.\n",
    "\n",
    "- The **style change hypothesis:** bands often try to change their style after their first album. This change is not always welcomed by the listeners.\n",
    "\n",
    "1. Create a new dataframe containing one row per 1st-2nd album pair. The dataframe should contain rows:\n",
    "    - `score_diff`: the difference in scores between the second and the first album (second - first).\n",
    "    - `time_diff`: the number of days elapsed between the first and the second album.\n",
    "    - `did_style_change`: a dummy variable that indicates whether the style of the music has changed. To obtain it, first, calculate the [standardized euclidean distance](https://docs.scipy.org/doc/scipy/reference/generated/scipy.spatial.distance.seuclidean.html) of music-related numerical features¹ between the second and the first album. Second, assign 1 to the 20% most distant 1st-2nd album pairs and 0 to all others.\n",
    "2. Fit a linear regression using `statsmodels` with this dataframe. Your regression should consider only an intercept, i.e., `\"score_diff ~ 1\"`.\n",
    "3. **Discuss:** Interpret the $R^2$ in your regression here. Does this analysis confirm what you observed in Task 5? Why?\n",
    "4. Include the `time_diff` and `did_style_change` as covariates in your model. Fit the regression again and report the summary of your model. \n",
    "5. **Discuss:** Interpret the coefficients `time_diff` and `did_style_change`. Carefully explain whether they provide evidence towards each of the aforementioned hypotheses? Do they rule out other reasons that may cause the \"second album syndrome effect\"?\n",
    "6. Create a new column called `time_diff_standardized`. It should be a standardized version of the `time_diff` column. Repeat the regression done in 6.4 using the `time_diff_standardized` column instead of the `time_diff` column.\n",
    "7. **Discuss:** Explain how the interpretation of the coefficients associated with this new column `time_diff_standardized` differ from its non-standardized version \n",
    "`time_diff`?\n",
    "\n",
    "--- \n",
    "\n",
    "**¹** Music related numerical features are:  \"key\", \"acousticness\", \"danceability\", \"energy\", \"instrumentalness\", \"liveness\", \"loudness\", \"speechiness\", \"valence\", and \"tempo\".\n"
   ]
  },
  {
   "cell_type": "markdown",
   "metadata": {},
   "source": [
    "#### Question 1"
   ]
  },
  {
   "cell_type": "code",
   "execution_count": 82,
   "metadata": {},
   "outputs": [],
   "source": [
    "from scipy.spatial import distance\n",
    "\n",
    "# create a dataframe with each row contain the features of the first and second album of the artist (artist is the index)\n",
    "df = df[(df['album_number'] == 1) | (df['album_number'] == 0)]\n",
    "first_album = df[df['album_number'] == 0]\n",
    "second_album = df[df['album_number'] == 1]\n",
    "album_merged = first_album.merge(second_album, on='artist')\n",
    "album_merged.set_index('artist', inplace=True)\n",
    "\n",
    "# compute the score_diff and time_diff features\n",
    "score_diff = album_merged['score_y'] - album_merged['score_x']\n",
    "time_diff = (album_merged['releaseyear_y'] - album_merged['releaseyear_x']) * 365\n",
    "\n",
    "# the numerical features columns for the first and second album respectively\n",
    "music_num_feat_1_name = album_merged.columns[7:17]\n",
    "music_num_feat_2_name = album_merged.columns[25:35]\n",
    "\n",
    "# compute the did_style_change feature\n",
    "std_feat = np.var(df[df.columns[8:18]])\n",
    "r = album_merged.apply(lambda x: distance.seuclidean(x[music_num_feat_1_name], x[music_num_feat_2_name], std_feat), axis=1)\n",
    "per_80 = np.percentile(r, 80)\n",
    "did_style_change = r.apply(lambda x: 1 if x > per_80 else 0)\n",
    "\n",
    "# create the new dataframe with the three new features\n",
    "diff_album = pd.concat([score_diff, time_diff, did_style_change], axis=1)\n",
    "diff_album.columns = ['score_diff', 'time_diff', 'did_style_change']"
   ]
  },
  {
   "cell_type": "code",
   "execution_count": 83,
   "metadata": {},
   "outputs": [
    {
     "data": {
      "text/html": [
       "<div>\n",
       "<style scoped>\n",
       "    .dataframe tbody tr th:only-of-type {\n",
       "        vertical-align: middle;\n",
       "    }\n",
       "\n",
       "    .dataframe tbody tr th {\n",
       "        vertical-align: top;\n",
       "    }\n",
       "\n",
       "    .dataframe thead th {\n",
       "        text-align: right;\n",
       "    }\n",
       "</style>\n",
       "<table border=\"1\" class=\"dataframe\">\n",
       "  <thead>\n",
       "    <tr style=\"text-align: right;\">\n",
       "      <th></th>\n",
       "      <th>score_diff</th>\n",
       "      <th>time_diff</th>\n",
       "      <th>did_style_change</th>\n",
       "    </tr>\n",
       "    <tr>\n",
       "      <th>artist</th>\n",
       "      <th></th>\n",
       "      <th></th>\n",
       "      <th></th>\n",
       "    </tr>\n",
       "  </thead>\n",
       "  <tbody>\n",
       "    <tr>\n",
       "      <th>Reigning Sound</th>\n",
       "      <td>-0.5</td>\n",
       "      <td>365.0</td>\n",
       "      <td>0</td>\n",
       "    </tr>\n",
       "    <tr>\n",
       "      <th>Jessica Lea Mayfield</th>\n",
       "      <td>-0.5</td>\n",
       "      <td>1095.0</td>\n",
       "      <td>1</td>\n",
       "    </tr>\n",
       "    <tr>\n",
       "      <th>The Essex Green</th>\n",
       "      <td>-1.9</td>\n",
       "      <td>1095.0</td>\n",
       "      <td>0</td>\n",
       "    </tr>\n",
       "    <tr>\n",
       "      <th>American Football</th>\n",
       "      <td>-0.5</td>\n",
       "      <td>7300.0</td>\n",
       "      <td>0</td>\n",
       "    </tr>\n",
       "    <tr>\n",
       "      <th>FIDLAR</th>\n",
       "      <td>-1.2</td>\n",
       "      <td>730.0</td>\n",
       "      <td>0</td>\n",
       "    </tr>\n",
       "    <tr>\n",
       "      <th>...</th>\n",
       "      <td>...</td>\n",
       "      <td>...</td>\n",
       "      <td>...</td>\n",
       "    </tr>\n",
       "    <tr>\n",
       "      <th>Bonnie ‚ÄúPrince‚Äù Billy</th>\n",
       "      <td>0.0</td>\n",
       "      <td>0.0</td>\n",
       "      <td>1</td>\n",
       "    </tr>\n",
       "    <tr>\n",
       "      <th>Taylor Swift</th>\n",
       "      <td>1.4</td>\n",
       "      <td>730.0</td>\n",
       "      <td>0</td>\n",
       "    </tr>\n",
       "    <tr>\n",
       "      <th>Cat Power</th>\n",
       "      <td>-1.9</td>\n",
       "      <td>730.0</td>\n",
       "      <td>0</td>\n",
       "    </tr>\n",
       "    <tr>\n",
       "      <th>Stereolab</th>\n",
       "      <td>0.8</td>\n",
       "      <td>365.0</td>\n",
       "      <td>0</td>\n",
       "    </tr>\n",
       "    <tr>\n",
       "      <th>Felt</th>\n",
       "      <td>-1.6</td>\n",
       "      <td>6935.0</td>\n",
       "      <td>1</td>\n",
       "    </tr>\n",
       "  </tbody>\n",
       "</table>\n",
       "<p>3564 rows × 3 columns</p>\n",
       "</div>"
      ],
      "text/plain": [
       "                           score_diff  time_diff  did_style_change\n",
       "artist                                                            \n",
       "Reigning Sound                   -0.5      365.0                 0\n",
       "Jessica Lea Mayfield             -0.5     1095.0                 1\n",
       "The Essex Green                  -1.9     1095.0                 0\n",
       "American Football                -0.5     7300.0                 0\n",
       "FIDLAR                           -1.2      730.0                 0\n",
       "...                               ...        ...               ...\n",
       "Bonnie ‚ÄúPrince‚Äù Billy         0.0        0.0                 1\n",
       "Taylor Swift                      1.4      730.0                 0\n",
       "Cat Power                        -1.9      730.0                 0\n",
       "Stereolab                         0.8      365.0                 0\n",
       "Felt                             -1.6     6935.0                 1\n",
       "\n",
       "[3564 rows x 3 columns]"
      ]
     },
     "execution_count": 83,
     "metadata": {},
     "output_type": "execute_result"
    }
   ],
   "source": [
    "diff_album"
   ]
  },
  {
   "cell_type": "markdown",
   "metadata": {},
   "source": [
    "#### Question 2"
   ]
  },
  {
   "cell_type": "code",
   "execution_count": 84,
   "metadata": {},
   "outputs": [
    {
     "name": "stdout",
     "output_type": "stream",
     "text": [
      "                            OLS Regression Results                            \n",
      "==============================================================================\n",
      "Dep. Variable:             score_diff   R-squared:                       0.000\n",
      "Model:                            OLS   Adj. R-squared:                  0.000\n",
      "Method:                 Least Squares   F-statistic:                       nan\n",
      "Date:                Tue, 23 Nov 2021   Prob (F-statistic):                nan\n",
      "Time:                        17:45:25   Log-Likelihood:                -6202.6\n",
      "No. Observations:                3564   AIC:                         1.241e+04\n",
      "Df Residuals:                    3563   BIC:                         1.241e+04\n",
      "Df Model:                           0                                         \n",
      "Covariance Type:            nonrobust                                         \n",
      "==============================================================================\n",
      "                 coef    std err          t      P>|t|      [0.025      0.975]\n",
      "------------------------------------------------------------------------------\n",
      "Intercept     -0.2579      0.023    -11.161      0.000      -0.303      -0.213\n",
      "==============================================================================\n",
      "Omnibus:                      402.611   Durbin-Watson:                   2.003\n",
      "Prob(Omnibus):                  0.000   Jarque-Bera (JB):             2233.136\n",
      "Skew:                          -0.391   Prob(JB):                         0.00\n",
      "Kurtosis:                       6.798   Cond. No.                         1.00\n",
      "==============================================================================\n",
      "\n",
      "Notes:\n",
      "[1] Standard Errors assume that the covariance matrix of the errors is correctly specified.\n"
     ]
    }
   ],
   "source": [
    "lr = smf.ols(formula='score_diff ~ 1', data=diff_album)\n",
    "np.random.seed(5)\n",
    "lr_res = lr.fit()\n",
    "print(lr_res.summary())"
   ]
  },
  {
   "cell_type": "markdown",
   "metadata": {},
   "source": [
    "#### Question 3 (Discuss)"
   ]
  },
  {
   "cell_type": "markdown",
   "metadata": {},
   "source": [
    "The intercept is negative, so it means it is more likely to have the variable ´diff_score´ negative. And ´diff_score´ is the score of the second album minus the score of the first album, so to have ´diff_score´ negative, we need to have the score of the first album bigger than the second one."
   ]
  },
  {
   "cell_type": "markdown",
   "metadata": {},
   "source": [
    "#### Question 4"
   ]
  },
  {
   "cell_type": "code",
   "execution_count": 85,
   "metadata": {},
   "outputs": [
    {
     "name": "stdout",
     "output_type": "stream",
     "text": [
      "                            OLS Regression Results                            \n",
      "==============================================================================\n",
      "Dep. Variable:             score_diff   R-squared:                       0.019\n",
      "Model:                            OLS   Adj. R-squared:                  0.018\n",
      "Method:                 Least Squares   F-statistic:                     33.99\n",
      "Date:                Tue, 23 Nov 2021   Prob (F-statistic):           2.38e-15\n",
      "Time:                        17:45:27   Log-Likelihood:                -6168.9\n",
      "No. Observations:                3564   AIC:                         1.234e+04\n",
      "Df Residuals:                    3561   BIC:                         1.236e+04\n",
      "Df Model:                           2                                         \n",
      "Covariance Type:            nonrobust                                         \n",
      "============================================================================================\n",
      "                               coef    std err          t      P>|t|      [0.025      0.975]\n",
      "--------------------------------------------------------------------------------------------\n",
      "Intercept                   -0.1367      0.029     -4.644      0.000      -0.194      -0.079\n",
      "C(did_style_change)[T.1]     0.0023      0.057      0.040      0.968      -0.110       0.114\n",
      "time_diff                -9.268e-05   1.12e-05     -8.244      0.000      -0.000   -7.06e-05\n",
      "==============================================================================\n",
      "Omnibus:                      369.580   Durbin-Watson:                   2.010\n",
      "Prob(Omnibus):                  0.000   Jarque-Bera (JB):             2086.518\n",
      "Skew:                          -0.324   Prob(JB):                         0.00\n",
      "Kurtosis:                       6.692   Cond. No.                     6.20e+03\n",
      "==============================================================================\n",
      "\n",
      "Notes:\n",
      "[1] Standard Errors assume that the covariance matrix of the errors is correctly specified.\n",
      "[2] The condition number is large, 6.2e+03. This might indicate that there are\n",
      "strong multicollinearity or other numerical problems.\n"
     ]
    }
   ],
   "source": [
    "lr2 = smf.ols(formula='score_diff ~ time_diff + C(did_style_change)', data=diff_album)\n",
    "lr2_res = lr2.fit()\n",
    "print(lr2_res.summary())"
   ]
  },
  {
   "cell_type": "markdown",
   "metadata": {},
   "source": [
    "#### Question 5 (Discuss)"
   ]
  },
  {
   "cell_type": "code",
   "execution_count": null,
   "metadata": {},
   "outputs": [],
   "source": []
  },
  {
   "cell_type": "markdown",
   "metadata": {},
   "source": [
    "#### Question 6"
   ]
  },
  {
   "cell_type": "code",
   "execution_count": 86,
   "metadata": {},
   "outputs": [
    {
     "name": "stdout",
     "output_type": "stream",
     "text": [
      "                            OLS Regression Results                            \n",
      "==============================================================================\n",
      "Dep. Variable:             score_diff   R-squared:                       0.019\n",
      "Model:                            OLS   Adj. R-squared:                  0.018\n",
      "Method:                 Least Squares   F-statistic:                     33.99\n",
      "Date:                Tue, 23 Nov 2021   Prob (F-statistic):           2.38e-15\n",
      "Time:                        17:45:32   Log-Likelihood:                -6168.9\n",
      "No. Observations:                3564   AIC:                         1.234e+04\n",
      "Df Residuals:                    3561   BIC:                         1.236e+04\n",
      "Df Model:                           2                                         \n",
      "Covariance Type:            nonrobust                                         \n",
      "============================================================================================\n",
      "                               coef    std err          t      P>|t|      [0.025      0.975]\n",
      "--------------------------------------------------------------------------------------------\n",
      "Intercept                   -0.2583      0.026    -10.092      0.000      -0.308      -0.208\n",
      "C(did_style_change)[T.1]     0.0023      0.057      0.040      0.968      -0.110       0.114\n",
      "time_diff_standardized      -0.1888      0.023     -8.244      0.000      -0.234      -0.144\n",
      "==============================================================================\n",
      "Omnibus:                      369.580   Durbin-Watson:                   2.010\n",
      "Prob(Omnibus):                  0.000   Jarque-Bera (JB):             2086.518\n",
      "Skew:                          -0.324   Prob(JB):                         0.00\n",
      "Kurtosis:                       6.692   Cond. No.                         2.62\n",
      "==============================================================================\n",
      "\n",
      "Notes:\n",
      "[1] Standard Errors assume that the covariance matrix of the errors is correctly specified.\n"
     ]
    }
   ],
   "source": [
    "diff_album['time_diff_standardized'] = (diff_album['time_diff'] - diff_album['time_diff'].mean()) / diff_album['time_diff'].std()\n",
    "lr3 = smf.ols(formula='score_diff ~ time_diff_standardized + C(did_style_change)', data=diff_album)\n",
    "lr3_res = lr3.fit()\n",
    "print(lr3_res.summary())"
   ]
  },
  {
   "cell_type": "markdown",
   "metadata": {},
   "source": [
    "#### Question 7 (Discuss)"
   ]
  },
  {
   "cell_type": "code",
   "execution_count": null,
   "metadata": {},
   "outputs": [],
   "source": []
  },
  {
   "cell_type": "markdown",
   "metadata": {
    "pycharm": {
     "name": "#%% md\n"
    }
   },
   "source": [
    "**Task 7 (Sanity checks — 6 pts)**\n",
    "\n",
    "You decide to perform a few last sanity checks for your analysis.\n",
    "\n",
    "1.  **Discuss:** If the Second Album Syndrome existed, i.e., something was special about the second album (as in if it was bad for a very particular reason that afflicted album number 2 more than all others), what would you expect to happen to the mean score of the third album?\n",
    "2. Using the dataset you created in Task 5, calculate the mean and the standard error of the mean for the 1st, 2nd, 3rd, and 4th albums. Test whether the difference between the average score of the second and the third album is statistically significant.\n",
    "3. **Discuss:** Does this suggest that the Second Album Syndrome exists?\n",
    "\n",
    "---\n"
   ]
  },
  {
   "cell_type": "markdown",
   "metadata": {},
   "source": [
    "#### Question 1 (Discuss)"
   ]
  },
  {
   "cell_type": "markdown",
   "metadata": {},
   "source": [
    "#### Question 2"
   ]
  },
  {
   "cell_type": "markdown",
   "metadata": {},
   "source": [
    "To make the comparison fair we only choose those artists with greater than 3 albums"
   ]
  },
  {
   "cell_type": "code",
   "execution_count": 100,
   "metadata": {},
   "outputs": [
    {
     "name": "stdout",
     "output_type": "stream",
     "text": [
      "16738\n",
      "6866\n"
     ]
    }
   ],
   "source": [
    "df = pd.read_csv(\"data/pitchfork.csv.gz\")\n",
    "df = df.drop_duplicates(subset=['artist', 'album'], keep='first')# remove duplicate reviews for the combine of artist and album\n",
    "df = df.reset_index()\n",
    "df= df.drop('index', 1)\n",
    "print(df.shape[0])\n",
    "df = df.groupby('artist').filter(lambda x: len(x) > 3)\n",
    "print(df.shape[0])\n",
    "df['album_number'] = df.sort_values('releaseyear').groupby('artist')['releaseyear'].cumcount()"
   ]
  },
  {
   "cell_type": "code",
   "execution_count": 109,
   "metadata": {},
   "outputs": [
    {
     "name": "stdout",
     "output_type": "stream",
     "text": [
      "1 th album mean 7.541511035653662\n",
      "1 th album std 1.3496530629304095\n",
      "2 th album mean 7.342699490662143\n",
      "2 th album std 1.2999909206988642\n",
      "3 th album mean 7.157640067911721\n",
      "3 th album std 1.254787345490618\n",
      "4 th album mean 7.050679117147707\n",
      "4 th album std 1.2239275668071132\n"
     ]
    }
   ],
   "source": [
    "lengths = [i for i in range(4)]\n",
    "mean = []\n",
    "std = []\n",
    "for i in range(4):\n",
    "    score = df[df['album_number'] == i]['score']\n",
    "    if i == 1:\n",
    "        score_second_album = score\n",
    "    if i == 2:\n",
    "        score_third_album = score\n",
    "    mean.append(score.mean())\n",
    "    std.append(score.std())\n",
    "    print(i+1,\"th album mean\", score.mean())\n",
    "    print(i+1,\"th album std\", score.std())\n",
    "    \n",
    "\n"
   ]
  },
  {
   "cell_type": "code",
   "execution_count": 112,
   "metadata": {},
   "outputs": [
    {
     "name": "stdout",
     "output_type": "stream",
     "text": [
      "Statistics=3.515423584466184, p=0.0004473487592841554\n",
      "reject H0\n"
     ]
    }
   ],
   "source": [
    "# H0: the mean of the second album is equal to the mean of the third album\n",
    "\n",
    "stat, p = ttest_ind(score_second_album, score_third_album)\n",
    "print('Statistics={}, p={}'.format(stat, p))\n",
    "alpha = 0.05\n",
    "if p > alpha:\n",
    "    print('fail to reject H0')\n",
    "else:\n",
    "    print('reject H0')"
   ]
  },
  {
   "cell_type": "markdown",
   "metadata": {},
   "source": [
    "#### Question 3 (Discuss)"
   ]
  },
  {
   "cell_type": "markdown",
   "metadata": {},
   "source": [
    "**Task 8 (Eureka — 14 pts)**\n",
    "\n",
    "Your boss, *Signor Piccardi*, proposes that you carry out a simulation to make things clearer. Assuming that:\n",
    "\n",
    "\n",
    "- Each band $i$ has a \"talent\" $\\mu_i$ , which is uniformally distributed between 2 and 8, i.e., $\\mu_i \\sim U_{[2,8]}$.\n",
    "- When a band $i$ produces an album $j$, it has quality $s_j$. This score is normally distributed with mean $\\mu_i$ and standard deviation $1$, i.e., $s_j \\sim N(\\mu_i, 1)$\n",
    "- Talents are independent and identically distributed random variables.\n",
    " \n",
    "Carry out the following simulation:\n",
    "\n",
    "- Create 1000 hypothetical bands with intrinsic talents $\\mu_i \\sim U_{[2,8]}$ for $i \\in [1,1000]$.\n",
    "- Have each hypothetical band create a hypothetical album.\n",
    "- Discard all bands whose albums received a score smaller than 6.\n",
    "- For each of the remaining bands, create two additional albums.\n",
    "\n",
    "Analyzing the scores obtained in this simulation, provide a coherent explanation for the  scores obtained in Task 7.2. \n",
    "\n",
    "--- \n",
    "\n",
    "**Hint:** You can use numpy to sample random variables (e.g. [numpy.random.normal](https://numpy.org/doc/stable/reference/random/generated/numpy.random.normal.html))"
   ]
  },
  {
   "cell_type": "markdown",
   "metadata": {},
   "source": [
    "Multivariate gaussian with a covariance matrix as identity is equal to independent gaussians. Saves us from using an expensive for loop"
   ]
  },
  {
   "cell_type": "code",
   "execution_count": 124,
   "metadata": {},
   "outputs": [],
   "source": [
    "band_means = np.random.uniform(2, 8, 1000)\n",
    "cov = np.eye(len((band_means)))\n",
    "album_scores = np.random.multivariate_normal(band_means, cov)"
   ]
  },
  {
   "cell_type": "code",
   "execution_count": 130,
   "metadata": {},
   "outputs": [],
   "source": [
    "truth = album_scores >= 6\n",
    "band_means_filter = band_means[truth]\n",
    "album_scores_filter = album_scores[truth]"
   ]
  },
  {
   "cell_type": "code",
   "execution_count": 132,
   "metadata": {},
   "outputs": [],
   "source": [
    "cov_filter = np.eye(len((band_means_filter)))\n",
    "album_scores_second = np.random.multivariate_normal(band_means_filter, cov_filter)\n",
    "album_scores_third = np.random.multivariate_normal(band_means_filter, cov_filter)"
   ]
  },
  {
   "cell_type": "markdown",
   "metadata": {},
   "source": [
    "Comparison between the first albums we created and the second albums generated after filtering out the first"
   ]
  },
  {
   "cell_type": "code",
   "execution_count": 137,
   "metadata": {},
   "outputs": [
    {
     "name": "stdout",
     "output_type": "stream",
     "text": [
      "Mean of first album after filtering 7.234359326754328\n",
      "Mean of second album after generatng 6.759563255498165\n",
      "Std of first album after filtering 0.8332617639256851\n",
      "Std of second album after generatng 1.3017149298753006\n"
     ]
    }
   ],
   "source": [
    "print(\"Mean of first album after filtering\", album_scores_filter.mean())\n",
    "print(\"Mean of second album after generating\", album_scores_second.mean())\n",
    "print(\"Std of first album after filtering\", album_scores_filter.std())\n",
    "print(\"Std of second album after generating\", album_scores_second.std())"
   ]
  },
  {
   "cell_type": "code",
   "execution_count": 133,
   "metadata": {},
   "outputs": [
    {
     "name": "stdout",
     "output_type": "stream",
     "text": [
      "Statistics=-5.6477668519694495, p=2.394999486864238e-08\n",
      "reject H0\n"
     ]
    }
   ],
   "source": [
    "# H0: the mean of the first album filtered is equal to the mean of the second album created\n",
    "\n",
    "stat, p = ttest_ind(album_scores_second, album_scores_filter)\n",
    "print('Statistics={}, p={}'.format(stat, p))\n",
    "alpha = 0.05\n",
    "if p > alpha:\n",
    "    print('fail to reject H0')\n",
    "else:\n",
    "    print('reject H0')"
   ]
  },
  {
   "cell_type": "markdown",
   "metadata": {},
   "source": [
    "Comparison between the Second albums generated and the third albums generated after filtering out the first"
   ]
  },
  {
   "cell_type": "code",
   "execution_count": 138,
   "metadata": {},
   "outputs": [
    {
     "name": "stdout",
     "output_type": "stream",
     "text": [
      "Mean of second album after generating 6.759563255498165\n",
      "Mean of third album after generating 6.838075890154044\n",
      "Std of second album after generating 1.3017149298753006\n",
      "Std of third album after generating 1.339511429809002\n"
     ]
    }
   ],
   "source": [
    "print(\"Mean of second album after generating\", album_scores_second.mean())\n",
    "print(\"Mean of third album after generating\", album_scores_third.mean())\n",
    "print(\"Std of second album after generating\", album_scores_second.std())\n",
    "print(\"Std of third album after generating\", album_scores_third.std())"
   ]
  },
  {
   "cell_type": "code",
   "execution_count": 140,
   "metadata": {},
   "outputs": [
    {
     "name": "stdout",
     "output_type": "stream",
     "text": [
      "Statistics=-0.7727923477401016, p=0.43991539498033083\n",
      "fail to reject H0\n"
     ]
    }
   ],
   "source": [
    "# H0: the mean of the first album filtered is equal to the mean of the second album created\n",
    "\n",
    "stat, p = ttest_ind(album_scores_second, album_scores_third)\n",
    "print('Statistics={}, p={}'.format(stat, p))\n",
    "alpha = 0.05\n",
    "if p > alpha:\n",
    "    print('fail to reject H0')\n",
    "else:\n",
    "    print('reject H0')"
   ]
  },
  {
   "cell_type": "code",
   "execution_count": null,
   "metadata": {},
   "outputs": [],
   "source": []
  }
 ],
 "metadata": {
  "kernelspec": {
   "display_name": "Python 3",
   "language": "python",
   "name": "python3"
  },
  "language_info": {
   "codemirror_mode": {
    "name": "ipython",
    "version": 3
   },
   "file_extension": ".py",
   "mimetype": "text/x-python",
   "name": "python",
   "nbconvert_exporter": "python",
   "pygments_lexer": "ipython3",
   "version": "3.7.9"
  },
  "pycharm": {
   "stem_cell": {
    "cell_type": "raw",
    "metadata": {
     "collapsed": false
    },
    "source": []
   }
  }
 },
 "nbformat": 4,
 "nbformat_minor": 1
}
